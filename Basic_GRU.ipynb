{
 "cells": [
  {
   "cell_type": "code",
   "execution_count": 1,
   "metadata": {},
   "outputs": [],
   "source": [
    "import numpy as np\n",
    "import pandas as pd\n",
    "from src2.data_loader import *\n",
    "# from src.strategy import *\n",
    "from src2.index import *\n",
    "from src2.strategy2 import *\n",
    "from tqdm import tqdm_notebook\n",
    "from sklearn.preprocessing import StandardScaler, MinMaxScaler, RobustScaler\n",
    "from sklearn.model_selection import train_test_split\n",
    "from sklearn.metrics import roc_auc_score, f1_score,  classification_report\n",
    "from fredapi import Fred\n",
    "from keras.callbacks import EarlyStopping , ModelCheckpoint\n",
    "\n",
    "from keras.models import Sequential # deep learning model\n",
    "from keras.layers import LSTM, Dropout, Dense, Activation, GRU, Flatten\n",
    "from keras import optimizers # 옵티마이저 \n",
    "\n",
    "import datetime\n",
    "import tensorflow as tf\n",
    "import pandas_datareader as pdr\n",
    "import matplotlib.pyplot as plt\n",
    "\n",
    "import warnings\n",
    "warnings.filterwarnings(action='ignore')"
   ]
  },
  {
   "cell_type": "code",
   "execution_count": 2,
   "metadata": {},
   "outputs": [
    {
     "name": "stdout",
     "output_type": "stream",
     "text": [
      "기존 데이터 불러오기 성공\n"
     ]
    }
   ],
   "source": [
    "data = DataGenerator(data_type='db').data_search(ticker='AAPL')\n",
    "data.sort_index(ascending=True, inplace=True)\n",
    "data3 = data.copy()\n",
    "data3.sort_index(ascending=True, inplace=True)"
   ]
  },
  {
   "cell_type": "code",
   "execution_count": 3,
   "metadata": {},
   "outputs": [],
   "source": [
    "data.columns = [\"open\",\"high\",\"low\",\"close\",\"adjClose\",\"volume\"]"
   ]
  },
  {
   "cell_type": "code",
   "execution_count": 4,
   "metadata": {},
   "outputs": [],
   "source": [
    "# data = data.loc[\"2010-09-16\":\"2022-10-11\"]\n",
    "# news = pd.read_csv(\"./BAC.csv\", index_col=0)\n",
    "# news = news[[\"label\"]]\n",
    "# news.index.rename(\"Datetime\", inplace=True)\n",
    "# data[\"label\"] = news[\"label\"]\n",
    "# data.fillna(method=\"ffill\", inplace=True)"
   ]
  },
  {
   "cell_type": "code",
   "execution_count": 5,
   "metadata": {},
   "outputs": [
    {
     "data": {
      "text/plain": [
       "Index(['open', 'high', 'low', 'close', 'adjClose', 'volume'], dtype='object')"
      ]
     },
     "execution_count": 5,
     "metadata": {},
     "output_type": "execute_result"
    }
   ],
   "source": [
    "data.columns"
   ]
  },
  {
   "cell_type": "code",
   "execution_count": 6,
   "metadata": {},
   "outputs": [],
   "source": [
    "def add_feature(df, **kwargs):\n",
    "    \n",
    "    fred = Fred(api_key='d929757b1ad9cd1d5115620a50badb0a')\n",
    "    \n",
    "    data = df.copy()\n",
    "\n",
    "    # data[\"Log_Close\"]                              = np.log(data[\"adjClose\"])\n",
    "    data[\"AC_pct\"]                                 = data['adjClose'].pct_change()\n",
    "    data[\"V_pct\"]                                  = data['volume'].pct_change()\n",
    "    data[\"sma(5)\"]                                 = sma(data, 5)\n",
    "    data[\"sma(20)\"]                                = sma(data, 20)\n",
    "    data[\"High_Yield\"]                             = fred.get_series('BAMLH0A0HYM2', data.index[0]).fillna(method=\"ffill\")\n",
    "    data[\"volume_sma5\"]                            = data[\"volume\"].rolling(5).mean()\n",
    "    data[\"volume_sma20\"]                           = data[\"volume\"].rolling(20).mean()\n",
    "    data[\"T10Y2Y\"]                                 = fred.get_series('T10Y2Y', data.index[0])\n",
    "    data[\"VIX\"]                                    = fred.get_series('VIXCLS', data.index[0])\n",
    "    data[\"RSI\"]                                    = rsi(data, **kwargs)\n",
    "    data[[\"macd\",\"macd_signal\",\"macd_oscillator\"]] = macd(data, **kwargs)\n",
    "    data[\"diff\"]                                   = data[\"adjClose\"].diff()\n",
    "    data[\"vdiff\"]                                  = data[\"volume\"].diff()\n",
    "#-------------------------------------------------------------------------------------------------------------------------------------------\n",
    "    \n",
    "    OBV = []\n",
    "    OBV.append(0)\n",
    "    for i in range(1, len(data['adjClose'])):\n",
    "        if data['adjClose'][i] > data['adjClose'][i-1]: \n",
    "            OBV.append(OBV[-1] + data['volume'][i]) \n",
    "        elif data['adjClose'][i] < data['adjClose'][i-1]:\n",
    "            OBV.append( OBV[-1] - data['volume'][i])\n",
    "        else:\n",
    "         OBV.append(OBV[-1])\n",
    "    data['OBV'] = OBV\n",
    "    data[\"OBV_mv20\"] = data[\"OBV\"].rolling(20).mean()\n",
    "    \n",
    "    #-------------------------------------------------------------------------------------------------------------------------------------------\n",
    "    \n",
    "    data.dropna(axis=0, inplace=True)\n",
    "    # data.drop([\"open\",\"high\",\"low\",\"close\",\"adjClose\",\"tt\",\"m_signal\",\"r_signal\",\"trend\",\"macd_oscillator\",\"macd_signal\",\"volume_sma5\",\"sma_signal\",\"OBV\"], axis=1, inplace=True)\n",
    "    data.drop([\"open\",\"high\",\"low\",\"close\",\"volume_sma5\",\"macd_oscillator\",\"macd_signal\"], axis=1, inplace=True)\n",
    "    return data"
   ]
  },
  {
   "cell_type": "code",
   "execution_count": 7,
   "metadata": {},
   "outputs": [
    {
     "data": {
      "text/plain": [
       "Index(['open', 'high', 'low', 'close', 'adjClose', 'volume'], dtype='object')"
      ]
     },
     "execution_count": 7,
     "metadata": {},
     "output_type": "execute_result"
    }
   ],
   "source": [
    "data.columns"
   ]
  },
  {
   "cell_type": "code",
   "execution_count": 8,
   "metadata": {},
   "outputs": [],
   "source": [
    "data = add_feature(data)"
   ]
  },
  {
   "cell_type": "code",
   "execution_count": 9,
   "metadata": {},
   "outputs": [
    {
     "data": {
      "text/html": [
       "<div>\n",
       "<style scoped>\n",
       "    .dataframe tbody tr th:only-of-type {\n",
       "        vertical-align: middle;\n",
       "    }\n",
       "\n",
       "    .dataframe tbody tr th {\n",
       "        vertical-align: top;\n",
       "    }\n",
       "\n",
       "    .dataframe thead th {\n",
       "        text-align: right;\n",
       "    }\n",
       "</style>\n",
       "<table border=\"1\" class=\"dataframe\">\n",
       "  <thead>\n",
       "    <tr style=\"text-align: right;\">\n",
       "      <th></th>\n",
       "      <th>adjClose</th>\n",
       "      <th>volume</th>\n",
       "      <th>AC_pct</th>\n",
       "      <th>V_pct</th>\n",
       "      <th>sma(5)</th>\n",
       "      <th>sma(20)</th>\n",
       "      <th>High_Yield</th>\n",
       "      <th>volume_sma20</th>\n",
       "      <th>T10Y2Y</th>\n",
       "      <th>VIX</th>\n",
       "      <th>RSI</th>\n",
       "      <th>macd</th>\n",
       "      <th>diff</th>\n",
       "      <th>vdiff</th>\n",
       "      <th>OBV</th>\n",
       "      <th>OBV_mv20</th>\n",
       "    </tr>\n",
       "    <tr>\n",
       "      <th>Datetime</th>\n",
       "      <th></th>\n",
       "      <th></th>\n",
       "      <th></th>\n",
       "      <th></th>\n",
       "      <th></th>\n",
       "      <th></th>\n",
       "      <th></th>\n",
       "      <th></th>\n",
       "      <th></th>\n",
       "      <th></th>\n",
       "      <th></th>\n",
       "      <th></th>\n",
       "      <th></th>\n",
       "      <th></th>\n",
       "      <th></th>\n",
       "      <th></th>\n",
       "    </tr>\n",
       "  </thead>\n",
       "  <tbody>\n",
       "    <tr>\n",
       "      <th>1996-12-31</th>\n",
       "      <td>0.158877</td>\n",
       "      <td>3.837456e+08</td>\n",
       "      <td>-0.040227</td>\n",
       "      <td>0.465797</td>\n",
       "      <td>0.170293</td>\n",
       "      <td>0.178855</td>\n",
       "      <td>3.13</td>\n",
       "      <td>198625280.0</td>\n",
       "      <td>0.55</td>\n",
       "      <td>20.92</td>\n",
       "      <td>29.925113</td>\n",
       "      <td>-0.01</td>\n",
       "      <td>-0.006659</td>\n",
       "      <td>1.219456e+08</td>\n",
       "      <td>5.172496e+09</td>\n",
       "      <td>5.927928e+09</td>\n",
       "    </tr>\n",
       "    <tr>\n",
       "      <th>1997-01-02</th>\n",
       "      <td>0.159828</td>\n",
       "      <td>1.431136e+08</td>\n",
       "      <td>0.005988</td>\n",
       "      <td>-0.627061</td>\n",
       "      <td>0.167059</td>\n",
       "      <td>0.177286</td>\n",
       "      <td>3.06</td>\n",
       "      <td>192004400.0</td>\n",
       "      <td>0.57</td>\n",
       "      <td>21.14</td>\n",
       "      <td>31.258498</td>\n",
       "      <td>-0.01</td>\n",
       "      <td>0.000951</td>\n",
       "      <td>-2.406320e+08</td>\n",
       "      <td>5.315610e+09</td>\n",
       "      <td>5.869132e+09</td>\n",
       "    </tr>\n",
       "    <tr>\n",
       "      <th>1997-01-03</th>\n",
       "      <td>0.165536</td>\n",
       "      <td>1.197168e+08</td>\n",
       "      <td>0.035712</td>\n",
       "      <td>-0.163484</td>\n",
       "      <td>0.165156</td>\n",
       "      <td>0.176049</td>\n",
       "      <td>3.09</td>\n",
       "      <td>188448960.0</td>\n",
       "      <td>0.57</td>\n",
       "      <td>19.13</td>\n",
       "      <td>38.784869</td>\n",
       "      <td>-0.01</td>\n",
       "      <td>0.005708</td>\n",
       "      <td>-2.339680e+07</td>\n",
       "      <td>5.435326e+09</td>\n",
       "      <td>5.825862e+09</td>\n",
       "    </tr>\n",
       "    <tr>\n",
       "      <th>1997-01-06</th>\n",
       "      <td>0.136044</td>\n",
       "      <td>1.882832e+09</td>\n",
       "      <td>-0.178160</td>\n",
       "      <td>14.727383</td>\n",
       "      <td>0.157164</td>\n",
       "      <td>0.173338</td>\n",
       "      <td>3.10</td>\n",
       "      <td>275483600.0</td>\n",
       "      <td>0.57</td>\n",
       "      <td>19.89</td>\n",
       "      <td>24.101400</td>\n",
       "      <td>-0.01</td>\n",
       "      <td>-0.029492</td>\n",
       "      <td>1.763115e+09</td>\n",
       "      <td>3.552494e+09</td>\n",
       "      <td>5.688451e+09</td>\n",
       "    </tr>\n",
       "    <tr>\n",
       "      <th>1997-01-07</th>\n",
       "      <td>0.133190</td>\n",
       "      <td>9.769312e+08</td>\n",
       "      <td>-0.020977</td>\n",
       "      <td>-0.481137</td>\n",
       "      <td>0.150695</td>\n",
       "      <td>0.170436</td>\n",
       "      <td>3.10</td>\n",
       "      <td>312860800.0</td>\n",
       "      <td>0.59</td>\n",
       "      <td>19.35</td>\n",
       "      <td>23.186625</td>\n",
       "      <td>-0.01</td>\n",
       "      <td>-0.002854</td>\n",
       "      <td>-9.059008e+08</td>\n",
       "      <td>2.575563e+09</td>\n",
       "      <td>5.490724e+09</td>\n",
       "    </tr>\n",
       "    <tr>\n",
       "      <th>...</th>\n",
       "      <td>...</td>\n",
       "      <td>...</td>\n",
       "      <td>...</td>\n",
       "      <td>...</td>\n",
       "      <td>...</td>\n",
       "      <td>...</td>\n",
       "      <td>...</td>\n",
       "      <td>...</td>\n",
       "      <td>...</td>\n",
       "      <td>...</td>\n",
       "      <td>...</td>\n",
       "      <td>...</td>\n",
       "      <td>...</td>\n",
       "      <td>...</td>\n",
       "      <td>...</td>\n",
       "      <td>...</td>\n",
       "    </tr>\n",
       "    <tr>\n",
       "      <th>2022-11-08</th>\n",
       "      <td>139.500000</td>\n",
       "      <td>8.990850e+07</td>\n",
       "      <td>0.004175</td>\n",
       "      <td>0.078368</td>\n",
       "      <td>140.047964</td>\n",
       "      <td>144.633145</td>\n",
       "      <td>4.79</td>\n",
       "      <td>93308430.0</td>\n",
       "      <td>-0.53</td>\n",
       "      <td>25.54</td>\n",
       "      <td>42.133239</td>\n",
       "      <td>-1.80</td>\n",
       "      <td>0.580002</td>\n",
       "      <td>6.533900e+06</td>\n",
       "      <td>1.398629e+11</td>\n",
       "      <td>1.399760e+11</td>\n",
       "    </tr>\n",
       "    <tr>\n",
       "      <th>2022-11-09</th>\n",
       "      <td>134.869995</td>\n",
       "      <td>7.491780e+07</td>\n",
       "      <td>-0.033190</td>\n",
       "      <td>-0.166733</td>\n",
       "      <td>138.064001</td>\n",
       "      <td>144.471101</td>\n",
       "      <td>4.99</td>\n",
       "      <td>93532635.0</td>\n",
       "      <td>-0.49</td>\n",
       "      <td>26.09</td>\n",
       "      <td>37.559833</td>\n",
       "      <td>-2.36</td>\n",
       "      <td>-4.630005</td>\n",
       "      <td>-1.499070e+07</td>\n",
       "      <td>1.397880e+11</td>\n",
       "      <td>1.399759e+11</td>\n",
       "    </tr>\n",
       "    <tr>\n",
       "      <th>2022-11-10</th>\n",
       "      <td>146.869995</td>\n",
       "      <td>1.188540e+08</td>\n",
       "      <td>0.088975</td>\n",
       "      <td>0.586459</td>\n",
       "      <td>139.707999</td>\n",
       "      <td>144.676940</td>\n",
       "      <td>4.80</td>\n",
       "      <td>93814135.0</td>\n",
       "      <td>-0.52</td>\n",
       "      <td>23.53</td>\n",
       "      <td>52.078579</td>\n",
       "      <td>-1.82</td>\n",
       "      <td>12.000000</td>\n",
       "      <td>4.393620e+07</td>\n",
       "      <td>1.399068e+11</td>\n",
       "      <td>1.399761e+11</td>\n",
       "    </tr>\n",
       "    <tr>\n",
       "      <th>2022-11-14</th>\n",
       "      <td>148.279999</td>\n",
       "      <td>7.337410e+07</td>\n",
       "      <td>-0.009486</td>\n",
       "      <td>-0.218625</td>\n",
       "      <td>143.843997</td>\n",
       "      <td>145.559690</td>\n",
       "      <td>4.67</td>\n",
       "      <td>93485585.0</td>\n",
       "      <td>-0.52</td>\n",
       "      <td>23.73</td>\n",
       "      <td>53.149289</td>\n",
       "      <td>-0.71</td>\n",
       "      <td>-1.419998</td>\n",
       "      <td>-2.052970e+07</td>\n",
       "      <td>1.399273e+11</td>\n",
       "      <td>1.399869e+11</td>\n",
       "    </tr>\n",
       "    <tr>\n",
       "      <th>2022-11-15</th>\n",
       "      <td>150.039993</td>\n",
       "      <td>8.949297e+07</td>\n",
       "      <td>0.011869</td>\n",
       "      <td>0.219681</td>\n",
       "      <td>145.951996</td>\n",
       "      <td>145.886093</td>\n",
       "      <td>4.64</td>\n",
       "      <td>93003403.7</td>\n",
       "      <td>-0.57</td>\n",
       "      <td>24.54</td>\n",
       "      <td>54.909728</td>\n",
       "      <td>-0.23</td>\n",
       "      <td>1.759995</td>\n",
       "      <td>1.611887e+07</td>\n",
       "      <td>1.400168e+11</td>\n",
       "      <td>1.399878e+11</td>\n",
       "    </tr>\n",
       "  </tbody>\n",
       "</table>\n",
       "<p>6462 rows × 16 columns</p>\n",
       "</div>"
      ],
      "text/plain": [
       "              adjClose        volume    AC_pct      V_pct      sma(5)  \\\n",
       "Datetime                                                                \n",
       "1996-12-31    0.158877  3.837456e+08 -0.040227   0.465797    0.170293   \n",
       "1997-01-02    0.159828  1.431136e+08  0.005988  -0.627061    0.167059   \n",
       "1997-01-03    0.165536  1.197168e+08  0.035712  -0.163484    0.165156   \n",
       "1997-01-06    0.136044  1.882832e+09 -0.178160  14.727383    0.157164   \n",
       "1997-01-07    0.133190  9.769312e+08 -0.020977  -0.481137    0.150695   \n",
       "...                ...           ...       ...        ...         ...   \n",
       "2022-11-08  139.500000  8.990850e+07  0.004175   0.078368  140.047964   \n",
       "2022-11-09  134.869995  7.491780e+07 -0.033190  -0.166733  138.064001   \n",
       "2022-11-10  146.869995  1.188540e+08  0.088975   0.586459  139.707999   \n",
       "2022-11-14  148.279999  7.337410e+07 -0.009486  -0.218625  143.843997   \n",
       "2022-11-15  150.039993  8.949297e+07  0.011869   0.219681  145.951996   \n",
       "\n",
       "               sma(20)  High_Yield  volume_sma20  T10Y2Y    VIX        RSI  \\\n",
       "Datetime                                                                     \n",
       "1996-12-31    0.178855        3.13   198625280.0    0.55  20.92  29.925113   \n",
       "1997-01-02    0.177286        3.06   192004400.0    0.57  21.14  31.258498   \n",
       "1997-01-03    0.176049        3.09   188448960.0    0.57  19.13  38.784869   \n",
       "1997-01-06    0.173338        3.10   275483600.0    0.57  19.89  24.101400   \n",
       "1997-01-07    0.170436        3.10   312860800.0    0.59  19.35  23.186625   \n",
       "...                ...         ...           ...     ...    ...        ...   \n",
       "2022-11-08  144.633145        4.79    93308430.0   -0.53  25.54  42.133239   \n",
       "2022-11-09  144.471101        4.99    93532635.0   -0.49  26.09  37.559833   \n",
       "2022-11-10  144.676940        4.80    93814135.0   -0.52  23.53  52.078579   \n",
       "2022-11-14  145.559690        4.67    93485585.0   -0.52  23.73  53.149289   \n",
       "2022-11-15  145.886093        4.64    93003403.7   -0.57  24.54  54.909728   \n",
       "\n",
       "            macd       diff         vdiff           OBV      OBV_mv20  \n",
       "Datetime                                                               \n",
       "1996-12-31 -0.01  -0.006659  1.219456e+08  5.172496e+09  5.927928e+09  \n",
       "1997-01-02 -0.01   0.000951 -2.406320e+08  5.315610e+09  5.869132e+09  \n",
       "1997-01-03 -0.01   0.005708 -2.339680e+07  5.435326e+09  5.825862e+09  \n",
       "1997-01-06 -0.01  -0.029492  1.763115e+09  3.552494e+09  5.688451e+09  \n",
       "1997-01-07 -0.01  -0.002854 -9.059008e+08  2.575563e+09  5.490724e+09  \n",
       "...          ...        ...           ...           ...           ...  \n",
       "2022-11-08 -1.80   0.580002  6.533900e+06  1.398629e+11  1.399760e+11  \n",
       "2022-11-09 -2.36  -4.630005 -1.499070e+07  1.397880e+11  1.399759e+11  \n",
       "2022-11-10 -1.82  12.000000  4.393620e+07  1.399068e+11  1.399761e+11  \n",
       "2022-11-14 -0.71  -1.419998 -2.052970e+07  1.399273e+11  1.399869e+11  \n",
       "2022-11-15 -0.23   1.759995  1.611887e+07  1.400168e+11  1.399878e+11  \n",
       "\n",
       "[6462 rows x 16 columns]"
      ]
     },
     "execution_count": 9,
     "metadata": {},
     "output_type": "execute_result"
    }
   ],
   "source": [
    "data"
   ]
  },
  {
   "cell_type": "code",
   "execution_count": 10,
   "metadata": {},
   "outputs": [],
   "source": [
    "import matplotlib.pyplot as plt\n",
    "from pylab import rcParams\n",
    "import seaborn as sns\n",
    "from sklearn.ensemble import RandomForestRegressor\n",
    "from sklearn.linear_model import LinearRegression\n",
    "from sklearn.model_selection import cross_val_score, train_test_split, GridSearchCV\n",
    "from sklearn.feature_selection import RFECV, SelectFromModel, SelectKBest\n",
    "from sklearn.preprocessing import StandardScaler, MinMaxScaler\n",
    "from sklearn import metrics"
   ]
  },
  {
   "cell_type": "code",
   "execution_count": 11,
   "metadata": {},
   "outputs": [],
   "source": [
    "# 타겟값 분리\n",
    "X = data.drop('adjClose', axis=1)\n",
    "y = data[['adjClose']]"
   ]
  },
  {
   "cell_type": "code",
   "execution_count": 12,
   "metadata": {},
   "outputs": [],
   "source": [
    "# 스탠다드 스케일러 사용 단, 타겟값은 적용하지 않음\n",
    "ms = MinMaxScaler()\n",
    "X  = ms.fit_transform(X)\n",
    "# y  = ms.fit_transform(y)"
   ]
  },
  {
   "cell_type": "code",
   "execution_count": 13,
   "metadata": {},
   "outputs": [],
   "source": [
    "X = pd.DataFrame(X, columns=data.drop(\"adjClose\", axis=1).columns, index=data.index)\n",
    "# y = pd.DataFrame(y, columns=data[[\"adjClose\"]].columns, index=data.index)"
   ]
  },
  {
   "cell_type": "code",
   "execution_count": 14,
   "metadata": {},
   "outputs": [],
   "source": [
    "X_train, X_test = X.iloc[:-36, :], X.iloc[-36 :]\n",
    "y_train, y_test = y.iloc[:-36, :], y.iloc[-36:, :]"
   ]
  },
  {
   "cell_type": "code",
   "execution_count": 15,
   "metadata": {},
   "outputs": [
    {
     "data": {
      "text/plain": [
       "(36, 15)"
      ]
     },
     "execution_count": 15,
     "metadata": {},
     "output_type": "execute_result"
    }
   ],
   "source": [
    "X_test.shape"
   ]
  },
  {
   "cell_type": "code",
   "execution_count": 16,
   "metadata": {},
   "outputs": [],
   "source": [
    "# 강사님의 윈도우 코드 복붙(이건 우리 입맛에 나중에 바꿔도 상관없음)\n",
    "def my_window_data(feature,target, window_size=20):\n",
    "    data = pd.concat([feature,target], axis = 1)\n",
    "    X_list = []\n",
    "    y_list = []\n",
    "    for i in range(len(data) - window_size-2):\n",
    "        X = data.iloc[i:i+window_size]\n",
    "        y = target.iloc[i+window_size:i+window_size+2]\n",
    "        X_list.append(np.array(X))      #[[] ,[] ,[] ,[]]\n",
    "        y_list.append(np.array(y))       #[]   \n",
    "    return  np.array(X_list), np.array(y_list)"
   ]
  },
  {
   "cell_type": "code",
   "execution_count": 17,
   "metadata": {},
   "outputs": [],
   "source": [
    "X_train, y_train = my_window_data(X_train, y_train)\n",
    "X_test , y_test = my_window_data(X_test , y_test)"
   ]
  },
  {
   "cell_type": "code",
   "execution_count": 18,
   "metadata": {},
   "outputs": [
    {
     "data": {
      "text/plain": [
       "((6404, 20, 16), (6404, 2, 1))"
      ]
     },
     "execution_count": 18,
     "metadata": {},
     "output_type": "execute_result"
    }
   ],
   "source": [
    "X_train.shape, y_train.shape"
   ]
  },
  {
   "cell_type": "code",
   "execution_count": 19,
   "metadata": {},
   "outputs": [
    {
     "data": {
      "text/plain": [
       "((14, 20, 16), (14, 2, 1))"
      ]
     },
     "execution_count": 19,
     "metadata": {},
     "output_type": "execute_result"
    }
   ],
   "source": [
    "X_test.shape, y_test.shape"
   ]
  },
  {
   "cell_type": "markdown",
   "metadata": {},
   "source": [
    "\n",
    "# 모델"
   ]
  },
  {
   "cell_type": "markdown",
   "metadata": {},
   "source": [
    "## GRU"
   ]
  },
  {
   "cell_type": "code",
   "execution_count": 20,
   "metadata": {},
   "outputs": [],
   "source": [
    "BATCH = 20\n",
    "EPOCH = 100"
   ]
  },
  {
   "cell_type": "code",
   "execution_count": 21,
   "metadata": {},
   "outputs": [],
   "source": [
    "model_path = f'./model_2021/LSTM.h5'\n",
    "checkpoint = ModelCheckpoint(filepath=model_path ,\n",
    "                             monitor='val_loss',   # val_loss 값이 개선되었을때 호출됩니다\n",
    "                             verbose=1,            # 로그를 출력합니다\n",
    "                             save_best_only=True,  # 가장 best 값만 저장합니다\n",
    "                             mode='auto'           # auto는 알아서 best를 찾습니다. min/max\n",
    "                            )\n",
    "\n",
    "early_stopping = EarlyStopping(monitor='val_loss',  # 모니터 기준 설정 (val loss) \n",
    "                              patience=10,         # 10회 Epoch동안 개선되지 않는다면 종료\n",
    "                             )"
   ]
  },
  {
   "cell_type": "code",
   "execution_count": 22,
   "metadata": {},
   "outputs": [
    {
     "name": "stdout",
     "output_type": "stream",
     "text": [
      "Model: \"sequential\"\n",
      "_________________________________________________________________\n",
      " Layer (type)                Output Shape              Param #   \n",
      "=================================================================\n",
      " gru (GRU)                   (None, 20, 50)            10200     \n",
      "                                                                 \n",
      " dropout (Dropout)           (None, 20, 50)            0         \n",
      "                                                                 \n",
      " gru_1 (GRU)                 (None, 64)                22272     \n",
      "                                                                 \n",
      " dropout_1 (Dropout)         (None, 64)                0         \n",
      "                                                                 \n",
      " dense (Dense)               (None, 2)                 130       \n",
      "                                                                 \n",
      "=================================================================\n",
      "Total params: 32,602\n",
      "Trainable params: 32,602\n",
      "Non-trainable params: 0\n",
      "_________________________________________________________________\n"
     ]
    }
   ],
   "source": [
    "with tf.device(\"/gpu:0\"):\n",
    "    model_GRU = Sequential()\n",
    "    model_GRU.add(GRU(50,  return_sequences=True, input_shape=(X_train.shape[1], X_train.shape[2])))\n",
    "    # model_GRU.add(Dense(128))\n",
    "    model_GRU.add(Dropout(0.2))\n",
    "    model_GRU.add(GRU(64))\n",
    "    model_GRU.add(Dropout(0.2))\n",
    "    # model_GRU.add(GRU(32))\n",
    "    # model_GRU.add(Dropout(0.2))\n",
    "    model_GRU.add(Dense(units = 2 ))\n",
    "\n",
    "    adam = optimizers.Adam(lr = 0.001)\n",
    "\n",
    "    model_GRU.compile(optimizer='adam', loss='mean_squared_error')\n",
    "\n",
    "    model_GRU.summary()"
   ]
  },
  {
   "cell_type": "code",
   "execution_count": 23,
   "metadata": {},
   "outputs": [
    {
     "name": "stdout",
     "output_type": "stream",
     "text": [
      "Epoch 1/100\n",
      "320/321 [============================>.] - ETA: 0s - loss: 1608.6226\n",
      "Epoch 1: val_loss improved from inf to 14836.21289, saving model to ./model_2021\\LSTM.h5\n",
      "321/321 [==============================] - 5s 6ms/step - loss: 1609.9951 - val_loss: 14836.2129\n",
      "Epoch 2/100\n",
      "320/321 [============================>.] - ETA: 0s - loss: 1133.9594\n",
      "Epoch 2: val_loss improved from 14836.21289 to 11525.51367, saving model to ./model_2021\\LSTM.h5\n",
      "321/321 [==============================] - 2s 5ms/step - loss: 1136.5571 - val_loss: 11525.5137\n",
      "Epoch 3/100\n",
      "320/321 [============================>.] - ETA: 0s - loss: 854.6006\n",
      "Epoch 3: val_loss improved from 11525.51367 to 8926.76367, saving model to ./model_2021\\LSTM.h5\n",
      "321/321 [==============================] - 1s 5ms/step - loss: 854.0669 - val_loss: 8926.7637\n",
      "Epoch 4/100\n",
      "316/321 [============================>.] - ETA: 0s - loss: 650.4312\n",
      "Epoch 4: val_loss improved from 8926.76367 to 6855.82520, saving model to ./model_2021\\LSTM.h5\n",
      "321/321 [==============================] - 2s 5ms/step - loss: 651.3948 - val_loss: 6855.8252\n",
      "Epoch 5/100\n",
      "321/321 [==============================] - ETA: 0s - loss: 487.1586\n",
      "Epoch 5: val_loss improved from 6855.82520 to 5157.91113, saving model to ./model_2021\\LSTM.h5\n",
      "321/321 [==============================] - 1s 5ms/step - loss: 487.1586 - val_loss: 5157.9111\n",
      "Epoch 6/100\n",
      "311/321 [============================>.] - ETA: 0s - loss: 370.7442\n",
      "Epoch 6: val_loss improved from 5157.91113 to 3777.56299, saving model to ./model_2021\\LSTM.h5\n",
      "321/321 [==============================] - 1s 4ms/step - loss: 367.2229 - val_loss: 3777.5630\n",
      "Epoch 7/100\n",
      "313/321 [============================>.] - ETA: 0s - loss: 273.7656\n",
      "Epoch 7: val_loss improved from 3777.56299 to 2698.58789, saving model to ./model_2021\\LSTM.h5\n",
      "321/321 [==============================] - 1s 4ms/step - loss: 272.9994 - val_loss: 2698.5879\n",
      "Epoch 8/100\n",
      "312/321 [============================>.] - ETA: 0s - loss: 200.0342\n",
      "Epoch 8: val_loss improved from 2698.58789 to 1864.33533, saving model to ./model_2021\\LSTM.h5\n",
      "321/321 [==============================] - 1s 4ms/step - loss: 198.5779 - val_loss: 1864.3353\n",
      "Epoch 9/100\n",
      "314/321 [============================>.] - ETA: 0s - loss: 144.5406\n",
      "Epoch 9: val_loss improved from 1864.33533 to 1241.53638, saving model to ./model_2021\\LSTM.h5\n",
      "321/321 [==============================] - 1s 4ms/step - loss: 143.1880 - val_loss: 1241.5364\n",
      "Epoch 10/100\n",
      "316/321 [============================>.] - ETA: 0s - loss: 102.5646\n",
      "Epoch 10: val_loss improved from 1241.53638 to 804.76953, saving model to ./model_2021\\LSTM.h5\n",
      "321/321 [==============================] - 1s 4ms/step - loss: 101.7466 - val_loss: 804.7695\n",
      "Epoch 11/100\n",
      "314/321 [============================>.] - ETA: 0s - loss: 77.4212\n",
      "Epoch 11: val_loss improved from 804.76953 to 497.02475, saving model to ./model_2021\\LSTM.h5\n",
      "321/321 [==============================] - 1s 4ms/step - loss: 77.2691 - val_loss: 497.0247\n",
      "Epoch 12/100\n",
      "316/321 [============================>.] - ETA: 0s - loss: 57.7579\n",
      "Epoch 12: val_loss improved from 497.02475 to 289.73553, saving model to ./model_2021\\LSTM.h5\n",
      "321/321 [==============================] - 1s 4ms/step - loss: 57.3648 - val_loss: 289.7355\n",
      "Epoch 13/100\n",
      "316/321 [============================>.] - ETA: 0s - loss: 44.6919\n",
      "Epoch 13: val_loss improved from 289.73553 to 156.63718, saving model to ./model_2021\\LSTM.h5\n",
      "321/321 [==============================] - 1s 4ms/step - loss: 44.2434 - val_loss: 156.6372\n",
      "Epoch 14/100\n",
      "313/321 [============================>.] - ETA: 0s - loss: 35.6202\n",
      "Epoch 14: val_loss improved from 156.63718 to 81.71007, saving model to ./model_2021\\LSTM.h5\n",
      "321/321 [==============================] - 1s 4ms/step - loss: 35.7138 - val_loss: 81.7101\n",
      "Epoch 15/100\n",
      "314/321 [============================>.] - ETA: 0s - loss: 28.9016\n",
      "Epoch 15: val_loss improved from 81.71007 to 47.76582, saving model to ./model_2021\\LSTM.h5\n",
      "321/321 [==============================] - 1s 4ms/step - loss: 28.9759 - val_loss: 47.7658\n",
      "Epoch 16/100\n",
      "313/321 [============================>.] - ETA: 0s - loss: 23.0292\n",
      "Epoch 16: val_loss improved from 47.76582 to 39.23423, saving model to ./model_2021\\LSTM.h5\n",
      "321/321 [==============================] - 1s 4ms/step - loss: 23.2412 - val_loss: 39.2342\n",
      "Epoch 17/100\n",
      "310/321 [===========================>..] - ETA: 0s - loss: 21.0585\n",
      "Epoch 17: val_loss did not improve from 39.23423\n",
      "321/321 [==============================] - 1s 4ms/step - loss: 20.7515 - val_loss: 52.4042\n",
      "Epoch 18/100\n",
      "314/321 [============================>.] - ETA: 0s - loss: 18.0525\n",
      "Epoch 18: val_loss did not improve from 39.23423\n",
      "321/321 [==============================] - 2s 5ms/step - loss: 17.9125 - val_loss: 42.9679\n",
      "Epoch 19/100\n",
      "317/321 [============================>.] - ETA: 0s - loss: 16.9507\n",
      "Epoch 19: val_loss did not improve from 39.23423\n",
      "321/321 [==============================] - 2s 5ms/step - loss: 17.0747 - val_loss: 43.7789\n",
      "Epoch 20/100\n",
      "320/321 [============================>.] - ETA: 0s - loss: 17.7222\n",
      "Epoch 20: val_loss did not improve from 39.23423\n",
      "321/321 [==============================] - 2s 5ms/step - loss: 17.7115 - val_loss: 40.1940\n",
      "Epoch 21/100\n",
      "312/321 [============================>.] - ETA: 0s - loss: 15.9159\n",
      "Epoch 21: val_loss did not improve from 39.23423\n",
      "321/321 [==============================] - 2s 5ms/step - loss: 15.9454 - val_loss: 66.0619\n",
      "Epoch 22/100\n",
      "315/321 [============================>.] - ETA: 0s - loss: 15.9512\n",
      "Epoch 22: val_loss improved from 39.23423 to 37.83345, saving model to ./model_2021\\LSTM.h5\n",
      "321/321 [==============================] - 2s 5ms/step - loss: 15.8703 - val_loss: 37.8335\n",
      "Epoch 23/100\n",
      "314/321 [============================>.] - ETA: 0s - loss: 15.7281\n",
      "Epoch 23: val_loss did not improve from 37.83345\n",
      "321/321 [==============================] - 2s 5ms/step - loss: 15.7687 - val_loss: 61.2886\n",
      "Epoch 24/100\n",
      "320/321 [============================>.] - ETA: 0s - loss: 14.1385\n",
      "Epoch 24: val_loss improved from 37.83345 to 36.60303, saving model to ./model_2021\\LSTM.h5\n",
      "321/321 [==============================] - 2s 5ms/step - loss: 14.1301 - val_loss: 36.6030\n",
      "Epoch 25/100\n",
      "312/321 [============================>.] - ETA: 0s - loss: 14.2961\n",
      "Epoch 25: val_loss did not improve from 36.60303\n",
      "321/321 [==============================] - 2s 5ms/step - loss: 14.6753 - val_loss: 41.2445\n",
      "Epoch 26/100\n",
      "320/321 [============================>.] - ETA: 0s - loss: 14.4053\n",
      "Epoch 26: val_loss improved from 36.60303 to 35.48724, saving model to ./model_2021\\LSTM.h5\n",
      "321/321 [==============================] - 2s 5ms/step - loss: 14.3964 - val_loss: 35.4872\n",
      "Epoch 27/100\n",
      "317/321 [============================>.] - ETA: 0s - loss: 12.9031\n",
      "Epoch 27: val_loss did not improve from 35.48724\n",
      "321/321 [==============================] - 1s 5ms/step - loss: 12.8838 - val_loss: 43.4710\n",
      "Epoch 28/100\n",
      "315/321 [============================>.] - ETA: 0s - loss: 11.7181\n",
      "Epoch 28: val_loss did not improve from 35.48724\n",
      "321/321 [==============================] - 2s 5ms/step - loss: 11.8734 - val_loss: 65.9097\n",
      "Epoch 29/100\n",
      "313/321 [============================>.] - ETA: 0s - loss: 12.1671\n",
      "Epoch 29: val_loss did not improve from 35.48724\n",
      "321/321 [==============================] - 2s 5ms/step - loss: 12.0688 - val_loss: 51.5518\n",
      "Epoch 30/100\n",
      "315/321 [============================>.] - ETA: 0s - loss: 14.2519\n",
      "Epoch 30: val_loss did not improve from 35.48724\n",
      "321/321 [==============================] - 2s 5ms/step - loss: 14.1618 - val_loss: 46.3347\n",
      "Epoch 31/100\n",
      "314/321 [============================>.] - ETA: 0s - loss: 13.6469\n",
      "Epoch 31: val_loss did not improve from 35.48724\n",
      "321/321 [==============================] - 2s 5ms/step - loss: 13.5619 - val_loss: 43.4466\n",
      "Epoch 32/100\n",
      "319/321 [============================>.] - ETA: 0s - loss: 14.7474\n",
      "Epoch 32: val_loss did not improve from 35.48724\n",
      "321/321 [==============================] - 1s 5ms/step - loss: 14.7201 - val_loss: 61.0019\n",
      "Epoch 33/100\n",
      "311/321 [============================>.] - ETA: 0s - loss: 12.2171\n",
      "Epoch 33: val_loss did not improve from 35.48724\n",
      "321/321 [==============================] - 1s 5ms/step - loss: 12.2779 - val_loss: 76.7429\n",
      "Epoch 34/100\n",
      "313/321 [============================>.] - ETA: 0s - loss: 12.5012\n",
      "Epoch 34: val_loss did not improve from 35.48724\n",
      "321/321 [==============================] - 1s 4ms/step - loss: 12.5965 - val_loss: 39.2286\n",
      "Epoch 35/100\n",
      "313/321 [============================>.] - ETA: 0s - loss: 13.6219\n",
      "Epoch 35: val_loss did not improve from 35.48724\n",
      "321/321 [==============================] - 1s 4ms/step - loss: 13.6324 - val_loss: 55.5435\n",
      "Epoch 36/100\n",
      "315/321 [============================>.] - ETA: 0s - loss: 12.4821\n",
      "Epoch 36: val_loss did not improve from 35.48724\n",
      "321/321 [==============================] - 1s 4ms/step - loss: 12.3425 - val_loss: 72.6248\n",
      "1/1 [==============================] - 0s 14ms/step - loss: 72.6248\n"
     ]
    }
   ],
   "source": [
    "hist_GRU = model_GRU.fit(X_train, y_train\n",
    "                  , batch_size=BATCH\n",
    "                  , epochs=EPOCH # \n",
    "                  , validation_data=(X_test, y_test)\n",
    "                  , callbacks= [checkpoint,early_stopping]\n",
    "                 )\n",
    "\n",
    "history_GRU = model_GRU.evaluate(X_test, y_test)"
   ]
  },
  {
   "cell_type": "code",
   "execution_count": 24,
   "metadata": {},
   "outputs": [
    {
     "data": {
      "text/plain": [
       "<matplotlib.legend.Legend at 0x27c6445b760>"
      ]
     },
     "execution_count": 24,
     "metadata": {},
     "output_type": "execute_result"
    },
    {
     "data": {
      "image/png": "[encoded data removed]",
      "text/plain": [
       "<Figure size 432x216 with 1 Axes>"
      ]
     },
     "metadata": {
      "needs_background": "light"
     },
     "output_type": "display_data"
    }
   ],
   "source": [
    "plt.style.use(\"grayscale\")\n",
    "plt.figure(figsize=(6,3))\n",
    "plt.plot(hist_GRU.history[\"loss\"], label=\"train_loss\", color='r')\n",
    "plt.plot(hist_GRU.history[\"val_loss\"], label=\"val_loss\", color='b')\n",
    "plt.title(\"GRU\")\n",
    "plt.xlabel(\"Epoch\")\n",
    "plt.ylabel(\"Loss\")\n",
    "plt.legend(loc=\"upper right\")"
   ]
  },
  {
   "cell_type": "code",
   "execution_count": 25,
   "metadata": {},
   "outputs": [
    {
     "name": "stdout",
     "output_type": "stream",
     "text": [
      "1/1 [==============================] - 0s 431ms/step\n",
      "[[149.86655 149.72707]\n",
      " [151.6182  151.46909]\n",
      " [153.86975 153.7141 ]\n",
      " [153.9134  153.78099]\n",
      " [151.82932 151.73592]\n",
      " [154.87318 154.74603]\n",
      " [156.25714 156.13573]\n",
      " [156.0079  155.9057 ]\n",
      " [153.01196 152.94627]\n",
      " [149.09323 149.05257]\n",
      " [147.69398 147.66092]\n",
      " [147.8951  147.83981]\n",
      " [147.71951 147.65024]\n",
      " [144.77441 144.72806]]\n"
     ]
    }
   ],
   "source": [
    "pred_GRU = model_GRU.predict(X_test)\n",
    "print(pred_GRU)"
   ]
  },
  {
   "cell_type": "code",
   "execution_count": 26,
   "metadata": {
    "executionInfo": {
     "elapsed": 19,
     "status": "ok",
     "timestamp": 1668420608891,
     "user": {
      "displayName": "신진명",
      "userId": "13294197785714083129"
     },
     "user_tz": -540
    },
    "id": "5T8sAWqWTUEn"
   },
   "outputs": [],
   "source": [
    "class backtest:\n",
    "    def __init__(self, df ,position, result_show =False):\n",
    "        self.df =df\n",
    "        self.position = position\n",
    "        self.result_show = result_show\n",
    "        self.df = self.evaluate(self.df, cost=.001)\n",
    "        self.performance(self.df)\n",
    "\n",
    "\n",
    "    def __get_period(self, df):\n",
    "\n",
    "        df.dropna(inplace=True)\n",
    "        end_date = df['Datetime'].iloc[-1]\n",
    "        start_date = df['Datetime'].iloc[0]\n",
    "        days_between = (end_date - start_date).days\n",
    "        return abs(days_between)\n",
    "    def __annualize(self, rate, period):\n",
    "        if period < 360:\n",
    "            rate = ((rate-1) / period * 365) + 1\n",
    "        elif period > 365:\n",
    "            rate = rate ** (365 / period)\n",
    "        else:\n",
    "            rate = rate\n",
    "        return round(rate, 4)\n",
    "\n",
    "\n",
    "    def __get_sharpe_ratio(self, df, rf_rate):\n",
    "        '''\n",
    "        Calculate sharpe ratio\n",
    "        :param df:\n",
    "        :param rf_rate:\n",
    "        :return: Sharpe ratio\n",
    "        '''\n",
    "        period = self.__get_period(df)\n",
    "        rf_rate_daily = rf_rate / 365 + 1\n",
    "        df['exs_rtn_daily'] = df['daily_rtn'] - rf_rate_daily\n",
    "        exs_rtn_annual = (self.__annualize(df['acc_rtn'][-1:], period) - 1) - rf_rate\n",
    "        exs_rtn_vol_annual = df['exs_rtn_daily'].std() * np.sqrt(365)\n",
    "        sharpe_ratio = exs_rtn_annual / exs_rtn_vol_annual if exs_rtn_vol_annual>0 else 0\n",
    "        return round(sharpe_ratio, 4)\n",
    "    def evaluate(self, df, cost= .1):\n",
    "        '''\n",
    "        Calculate daily returns and MDDs of portfolio\n",
    "        :param df: The dataframe containing trading position\n",
    "        :param cost: Transaction cost when sell\n",
    "        :return: Returns, MDD\n",
    "        '''\n",
    "        df['signal_price'] = np.nan\n",
    "        df['signal_price'].mask(df[self.position]== 1, df['Adj Close'], inplace=True)\n",
    "        df['signal_price'].mask(df[self.position]== 2, df['Adj Close'], inplace=True)\n",
    "        record = df[[self.position,'signal_price']].dropna()\n",
    "        record['rtn'] = 1\n",
    "        record['rtn'].mask(record[self.position]== 2, (record['signal_price']*(1-cost))/record['signal_price'].shift(1), inplace=True)\n",
    "        record['acc_rtn'] = record['rtn'].cumprod()\n",
    "\n",
    "        df['signal_price'].mask(df[self.position]== 0, df['Adj Close'], inplace=True)\n",
    "        df['rtn'] = record['rtn']\n",
    "        df['rtn'].fillna(1, inplace=True)\n",
    "\n",
    "        df['daily_rtn'] = 1\n",
    "        df['daily_rtn'].mask(df[self.position] == 0, df['signal_price'] / df['signal_price'].shift(1), inplace=True)\n",
    "        df['daily_rtn'].mask(df[self.position] == 2, (df['signal_price']*(1-cost)) / df['signal_price'].shift(1), inplace=True)\n",
    "        df['daily_rtn'].fillna(1, inplace=True)\n",
    "        df['acc_rtn'] = df['daily_rtn'].cumprod()\n",
    "        df['acc_rtn_dp'] = ((df['acc_rtn']-1)*100).round(2)\n",
    "        df['mdd'] = (df['acc_rtn'] / df['acc_rtn'].cummax()).round(4)\n",
    "        df['bm_mdd'] = (df['Adj Close'] / df['Adj Close'].cummax()).round(4)\n",
    "        df.drop(columns='signal_price', inplace=True)\n",
    "        return df\n",
    "\n",
    "\n",
    "    def performance(self, df, rf_rate=.01):\n",
    "        '''\n",
    "        Calculate additional information of portfolio\n",
    "        :param df: The dataframe with daily returns\n",
    "        :param rf_rate: Risk free interest rate\n",
    "        :return: Number of trades, Number of wins, Hit ratio, Sharpe ratio, ...\n",
    "        '''\n",
    "\n",
    "        rst = {}\n",
    "        rst['no_trades'] = (df[self.position]==1).sum()\n",
    "        rst['no_win'] = (df['rtn']>1).sum()\n",
    "        rst['acc_rtn'] = df['acc_rtn'][-1:].round(4)\n",
    "        rst['hit_ratio'] = round((df['rtn']>1.0).sum() / rst['no_trades'], 4) if rst['no_trades']>0 else 0\n",
    "        rst['avg_rtn'] = round(df[df['rtn']!=1.0]['rtn'].mean(), 4)\n",
    "        rst['period'] = self.__get_period(df)\n",
    "        rst['annual_rtn'] = self.__annualize(rst['acc_rtn'], rst['period'])\n",
    "        rst['bm_rtn'] = round(df.iloc[-1,5]/df.iloc[0,5], 4)\n",
    "        rst['sharpe_ratio'] = self.__get_sharpe_ratio(df, rf_rate)\n",
    "        rst['mdd'] = df['mdd'].min()\n",
    "        rst['bm_mdd'] = df['bm_mdd'].min()\n",
    "        if self.result_show ==True:\n",
    "            print('CAGR: ',round(rst['annual_rtn'].values[0] - 1,5))                       # 연간 수익\n",
    "            print('Accumulated return:',round(rst['acc_rtn'].values[0] - 1,5))         # \n",
    "            print('Average return: ',round(rst['avg_rtn'] - 1,5))\n",
    "            print('Benchmark return :',round(rst['bm_rtn']-1,5))\n",
    "            print('Number of trades: ',(rst['no_trades']))\n",
    "            print('Number of win:',(rst['no_win']))\n",
    "            print('Hit ratio:',(rst['hit_ratio']))\n",
    "            print('Investment period:',(rst['period']/365),'yrs')\n",
    "            print('Sharpe ratio:',(rst['sharpe_ratio']))\n",
    "\n",
    "            print('MDD:',(rst['mdd']-1)*100)\n",
    "            print('Benchmark MDD:',(rst['bm_mdd']-1)*100)\n",
    "            self.res = {'CAGR':(rst['annual_rtn'].values[0] - 1)*100,'Accumulated return':(rst['acc_rtn'].values[0] - 1)*100,'Average return': (rst['avg_rtn'] - 1)*100,'MDD':(rst['mdd']-1)*100}\n",
    "        else:\n",
    "            self.res = {'CAGR':(rst['annual_rtn'].values[0] - 1)*100,'Accumulated return':(rst['acc_rtn'].values[0] - 1)*100,'Average return': (rst['avg_rtn'] - 1)*100,'MDD':(rst['mdd']-1)*100}\n",
    "            print('백테스팅 성공')"
   ]
  },
  {
   "cell_type": "code",
   "execution_count": 27,
   "metadata": {
    "executionInfo": {
     "elapsed": 17,
     "status": "ok",
     "timestamp": 1668420608891,
     "user": {
      "displayName": "신진명",
      "userId": "13294197785714083129"
     },
     "user_tz": -540
    },
    "id": "e0PP-GzeaDmO"
   },
   "outputs": [],
   "source": [
    "data_GRU = pd.DataFrame({\"Adj Close\":data.iloc[int(len(data) - len(pred_GRU)):][\"adjClose\"]})\n",
    "# data_LSTM[\"volume\"] = data.iloc[-14:][\"volume\"]"
   ]
  },
  {
   "cell_type": "code",
   "execution_count": 28,
   "metadata": {
    "executionInfo": {
     "elapsed": 11,
     "status": "ok",
     "timestamp": 1668420608892,
     "user": {
      "displayName": "신진명",
      "userId": "13294197785714083129"
     },
     "user_tz": -540
    },
    "id": "i1q7xVR_aDmO"
   },
   "outputs": [],
   "source": [
    "data_GRU[\"Adj Close\"] = data3[\"Adj Close\"][int(len(data)) - len(pred_GRU):]"
   ]
  },
  {
   "cell_type": "code",
   "execution_count": 29,
   "metadata": {
    "executionInfo": {
     "elapsed": 10,
     "status": "ok",
     "timestamp": 1668420608892,
     "user": {
      "displayName": "신진명",
      "userId": "13294197785714083129"
     },
     "user_tz": -540
    },
    "id": "D70bUn_7aDmO"
   },
   "outputs": [],
   "source": [
    "data_GRU.reset_index(inplace=True)"
   ]
  },
  {
   "cell_type": "code",
   "execution_count": 30,
   "metadata": {},
   "outputs": [],
   "source": [
    "data_GRU[\"pred\"] = pred_GRU[:,0]\n",
    "data_GRU[\"pred1\"] = pred_GRU[:,1]"
   ]
  },
  {
   "cell_type": "code",
   "execution_count": 31,
   "metadata": {},
   "outputs": [
    {
     "data": {
      "text/plain": [
       "[<matplotlib.lines.Line2D at 0x27c7fe3cd30>]"
      ]
     },
     "execution_count": 31,
     "metadata": {},
     "output_type": "execute_result"
    },
    {
     "data": {
      "image/png": "[encoded data removed]",
      "text/plain": [
       "<Figure size 432x288 with 1 Axes>"
      ]
     },
     "metadata": {
      "needs_background": "light"
     },
     "output_type": "display_data"
    }
   ],
   "source": [
    "plt.plot(data_GRU[\"Adj Close\"])\n",
    "plt.plot(data_GRU[\"pred\"])\n",
    "# plt.plot(data_LSTM[\"pred1\"])"
   ]
  },
  {
   "cell_type": "code",
   "execution_count": 32,
   "metadata": {},
   "outputs": [],
   "source": [
    "signal = []\n",
    "for idx in range(len(data_GRU['pred'])):\n",
    "    if idx == 0 or idx+1 == len(data_GRU['pred']):\n",
    "        signal.append(0)   \n",
    "    else:\n",
    "        if data_GRU['pred'].iloc[idx-2]> data_GRU['pred'].iloc[idx] and data_GRU['pred'].iloc[idx]> data_GRU['pred'].iloc[idx-1]:\n",
    "            signal.append(1) #----- 상승\n",
    "        elif data_GRU['pred'].iloc[idx-2]< data_GRU['pred'].iloc[idx] and data_GRU['pred'].iloc[idx]< data_GRU['pred'].iloc[idx-1]:\n",
    "            signal.append(2) #----- 하락\n",
    "        else:\n",
    "            signal.append(0) #----- 횡보추세\n",
    "data_GRU['position'] = signal"
   ]
  },
  {
   "cell_type": "code",
   "execution_count": 33,
   "metadata": {},
   "outputs": [
    {
     "data": {
      "text/html": [
       "<div>\n",
       "<style scoped>\n",
       "    .dataframe tbody tr th:only-of-type {\n",
       "        vertical-align: middle;\n",
       "    }\n",
       "\n",
       "    .dataframe tbody tr th {\n",
       "        vertical-align: top;\n",
       "    }\n",
       "\n",
       "    .dataframe thead th {\n",
       "        text-align: right;\n",
       "    }\n",
       "</style>\n",
       "<table border=\"1\" class=\"dataframe\">\n",
       "  <thead>\n",
       "    <tr style=\"text-align: right;\">\n",
       "      <th></th>\n",
       "      <th>Datetime</th>\n",
       "      <th>Adj Close</th>\n",
       "      <th>pred</th>\n",
       "      <th>pred1</th>\n",
       "      <th>position</th>\n",
       "    </tr>\n",
       "  </thead>\n",
       "  <tbody>\n",
       "    <tr>\n",
       "      <th>0</th>\n",
       "      <td>2022-10-26</td>\n",
       "      <td>149.102661</td>\n",
       "      <td>149.866547</td>\n",
       "      <td>149.727066</td>\n",
       "      <td>0</td>\n",
       "    </tr>\n",
       "    <tr>\n",
       "      <th>1</th>\n",
       "      <td>2022-10-27</td>\n",
       "      <td>144.560196</td>\n",
       "      <td>151.618195</td>\n",
       "      <td>151.469086</td>\n",
       "      <td>0</td>\n",
       "    </tr>\n",
       "    <tr>\n",
       "      <th>2</th>\n",
       "      <td>2022-10-28</td>\n",
       "      <td>155.482086</td>\n",
       "      <td>153.869751</td>\n",
       "      <td>153.714096</td>\n",
       "      <td>0</td>\n",
       "    </tr>\n",
       "    <tr>\n",
       "      <th>3</th>\n",
       "      <td>2022-10-31</td>\n",
       "      <td>153.086044</td>\n",
       "      <td>153.913406</td>\n",
       "      <td>153.780991</td>\n",
       "      <td>0</td>\n",
       "    </tr>\n",
       "    <tr>\n",
       "      <th>4</th>\n",
       "      <td>2022-11-01</td>\n",
       "      <td>150.400497</td>\n",
       "      <td>151.829315</td>\n",
       "      <td>151.735916</td>\n",
       "      <td>0</td>\n",
       "    </tr>\n",
       "    <tr>\n",
       "      <th>5</th>\n",
       "      <td>2022-11-02</td>\n",
       "      <td>144.789810</td>\n",
       "      <td>154.873184</td>\n",
       "      <td>154.746033</td>\n",
       "      <td>0</td>\n",
       "    </tr>\n",
       "    <tr>\n",
       "      <th>6</th>\n",
       "      <td>2022-11-03</td>\n",
       "      <td>138.650009</td>\n",
       "      <td>156.257141</td>\n",
       "      <td>156.135727</td>\n",
       "      <td>0</td>\n",
       "    </tr>\n",
       "    <tr>\n",
       "      <th>7</th>\n",
       "      <td>2022-11-04</td>\n",
       "      <td>138.380005</td>\n",
       "      <td>156.007904</td>\n",
       "      <td>155.905701</td>\n",
       "      <td>2</td>\n",
       "    </tr>\n",
       "    <tr>\n",
       "      <th>8</th>\n",
       "      <td>2022-11-07</td>\n",
       "      <td>138.919998</td>\n",
       "      <td>153.011963</td>\n",
       "      <td>152.946274</td>\n",
       "      <td>0</td>\n",
       "    </tr>\n",
       "    <tr>\n",
       "      <th>9</th>\n",
       "      <td>2022-11-08</td>\n",
       "      <td>139.500000</td>\n",
       "      <td>149.093231</td>\n",
       "      <td>149.052567</td>\n",
       "      <td>0</td>\n",
       "    </tr>\n",
       "    <tr>\n",
       "      <th>10</th>\n",
       "      <td>2022-11-09</td>\n",
       "      <td>134.869995</td>\n",
       "      <td>147.693985</td>\n",
       "      <td>147.660919</td>\n",
       "      <td>0</td>\n",
       "    </tr>\n",
       "    <tr>\n",
       "      <th>11</th>\n",
       "      <td>2022-11-10</td>\n",
       "      <td>146.869995</td>\n",
       "      <td>147.895096</td>\n",
       "      <td>147.839813</td>\n",
       "      <td>1</td>\n",
       "    </tr>\n",
       "    <tr>\n",
       "      <th>12</th>\n",
       "      <td>2022-11-14</td>\n",
       "      <td>148.279999</td>\n",
       "      <td>147.719513</td>\n",
       "      <td>147.650238</td>\n",
       "      <td>2</td>\n",
       "    </tr>\n",
       "    <tr>\n",
       "      <th>13</th>\n",
       "      <td>2022-11-15</td>\n",
       "      <td>150.039993</td>\n",
       "      <td>144.774414</td>\n",
       "      <td>144.728058</td>\n",
       "      <td>0</td>\n",
       "    </tr>\n",
       "  </tbody>\n",
       "</table>\n",
       "</div>"
      ],
      "text/plain": [
       "     Datetime   Adj Close        pred       pred1  position\n",
       "0  2022-10-26  149.102661  149.866547  149.727066         0\n",
       "1  2022-10-27  144.560196  151.618195  151.469086         0\n",
       "2  2022-10-28  155.482086  153.869751  153.714096         0\n",
       "3  2022-10-31  153.086044  153.913406  153.780991         0\n",
       "4  2022-11-01  150.400497  151.829315  151.735916         0\n",
       "5  2022-11-02  144.789810  154.873184  154.746033         0\n",
       "6  2022-11-03  138.650009  156.257141  156.135727         0\n",
       "7  2022-11-04  138.380005  156.007904  155.905701         2\n",
       "8  2022-11-07  138.919998  153.011963  152.946274         0\n",
       "9  2022-11-08  139.500000  149.093231  149.052567         0\n",
       "10 2022-11-09  134.869995  147.693985  147.660919         0\n",
       "11 2022-11-10  146.869995  147.895096  147.839813         1\n",
       "12 2022-11-14  148.279999  147.719513  147.650238         2\n",
       "13 2022-11-15  150.039993  144.774414  144.728058         0"
      ]
     },
     "execution_count": 33,
     "metadata": {},
     "output_type": "execute_result"
    }
   ],
   "source": [
    "data_GRU"
   ]
  },
  {
   "cell_type": "code",
   "execution_count": 34,
   "metadata": {},
   "outputs": [
    {
     "data": {
      "text/plain": [
       "Text(0.5, 1.0, 'Price')"
      ]
     },
     "execution_count": 34,
     "metadata": {},
     "output_type": "execute_result"
    },
    {
     "data": {
      "image/png": "[encoded data removed]",
      "text/plain": [
       "<Figure size 432x216 with 1 Axes>"
      ]
     },
     "metadata": {
      "needs_background": "light"
     },
     "output_type": "display_data"
    }
   ],
   "source": [
    "dummy_df = data_GRU\n",
    "# 그림 사이즈 설정\n",
    "plt.style.use(\"seaborn-deep\")\n",
    "plt.figure(figsize=(6,3))\n",
    "\n",
    "# 종가 기준으로 차트를 그림\n",
    "data_GRU['Adj Close'].plot(grid=True)\n",
    "\n",
    "# position이 1 인경우 초록색으로 해당 종가에 표시\n",
    "plt.scatter(dummy_df.loc[data_GRU.position == 1].index, dummy_df['Adj Close'][dummy_df.position == 1],\n",
    "            color='green', \n",
    "            label='Buy', \n",
    "            marker = '^', \n",
    "            alpha=1)\n",
    "\n",
    "# position이 -1 인경우 빨간색으로 해당 종가에 표시\n",
    "plt.scatter(dummy_df.loc[dummy_df.position == 2].index, dummy_df['Adj Close'][dummy_df.position == 2],\n",
    "            color='red', \n",
    "            label='Sell', \n",
    "            marker = '^', \n",
    "            alpha=1)\n",
    "\n",
    "# # trend이 1 인경우 초록색으로 해당 종가에 표시\n",
    "# plt.scatter(dummy_df.loc[df.trend == 1].index, dummy_df['Adj Close'][dummy_df.trend == 1],\n",
    "#             color='pink', \n",
    "#             label='up', \n",
    "#             marker = 'o', \n",
    "#             alpha=0.5)\n",
    "\n",
    "# # position이 -1 인경우 빨간색으로 해당 종가에 표시\n",
    "# plt.scatter(dummy_df.loc[dummy_df.trend == 0].index, dummy_df['Adj Close'][dummy_df.trend == 0],\n",
    "#             color='blue', \n",
    "#             label='down', \n",
    "#             marker = 'o', \n",
    "#             alpha=0.5)\n",
    "\n",
    "\n",
    "plt.ylabel('Price ($)')\n",
    "plt.xlabel('Date')\n",
    "plt.title('Price')"
   ]
  },
  {
   "cell_type": "code",
   "execution_count": 35,
   "metadata": {},
   "outputs": [
    {
     "name": "stdout",
     "output_type": "stream",
     "text": [
      "CAGR:  -1.4198\n",
      "Accumulated return: -0.0778\n",
      "Average return:  0.0086\n",
      "Benchmark return : 0.0\n",
      "Number of trades:  1\n",
      "Number of win: 1\n",
      "Hit ratio: 1.0\n",
      "Investment period: 0.0547945205479452 yrs\n",
      "Sharpe ratio: 13   -2.535\n",
      "Name: acc_rtn, dtype: float64\n",
      "MDD: -13.339999999999996\n",
      "Benchmark MDD: -13.260000000000005\n"
     ]
    }
   ],
   "source": [
    "back_GRU = backtest(data_GRU,'position',True)"
   ]
  }
 ],
 "metadata": {
  "kernelspec": {
   "display_name": "Python 3.8.8 64-bit",
   "language": "python",
   "name": "python3"
  },
  "language_info": {
   "codemirror_mode": {
    "name": "ipython",
    "version": 3
   },
   "file_extension": ".py",
   "mimetype": "text/x-python",
   "name": "python",
   "nbconvert_exporter": "python",
   "pygments_lexer": "ipython3",
   "version": "3.8.8"
  },
  "orig_nbformat": 4,
  "vscode": {
   "interpreter": {
    "hash": "f544ce1a915a9875fad91c894e2c0bcad4b7a79945aa6027ef3ad27810072aa6"
   }
  }
 },
 "nbformat": 4,
 "nbformat_minor": 2
}
