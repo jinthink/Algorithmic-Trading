{
 "cells": [
  {
   "cell_type": "code",
   "execution_count": 1,
   "metadata": {},
   "outputs": [],
   "source": [
    "import numpy as np\n",
    "import pandas as pd\n",
    "from src2.data_loader import *\n",
    "# from src.strategy import *\n",
    "from src2.index import *\n",
    "from src2.strategy2 import *\n",
    "from tqdm import tqdm_notebook\n",
    "from sklearn.preprocessing import StandardScaler, MinMaxScaler, RobustScaler\n",
    "from sklearn.model_selection import train_test_split\n",
    "from sklearn.metrics import roc_auc_score, f1_score,  classification_report\n",
    "from fredapi import Fred\n",
    "from keras.callbacks import EarlyStopping , ModelCheckpoint\n",
    "\n",
    "from keras.models import Sequential # deep learning model\n",
    "from keras.layers import LSTM, Dropout, Dense, Activation, GRU, Flatten\n",
    "from keras import optimizers # 옵티마이저 \n",
    "\n",
    "import datetime\n",
    "import tensorflow as tf\n",
    "import pandas_datareader as pdr\n",
    "import matplotlib.pyplot as plt\n",
    "\n",
    "import warnings\n",
    "warnings.filterwarnings(action='ignore')"
   ]
  },
  {
   "cell_type": "code",
   "execution_count": 2,
   "metadata": {},
   "outputs": [
    {
     "name": "stdout",
     "output_type": "stream",
     "text": [
      "기존 데이터 불러오기 성공\n"
     ]
    }
   ],
   "source": [
    "data = DataGenerator(data_type='db').data_search(ticker='AAPL')\n",
    "data.sort_index(ascending=True, inplace=True)\n",
    "data3 = data.copy()\n",
    "data3.sort_index(ascending=True, inplace=True)"
   ]
  },
  {
   "cell_type": "code",
   "execution_count": 3,
   "metadata": {},
   "outputs": [],
   "source": [
    "data.columns = [\"open\",\"high\",\"low\",\"close\",\"adjClose\",\"volume\"]"
   ]
  },
  {
   "cell_type": "code",
   "execution_count": 4,
   "metadata": {},
   "outputs": [],
   "source": [
    "# data = data.loc[\"2010-09-16\":\"2022-10-11\"]\n",
    "# news = pd.read_csv(\"./BAC.csv\", index_col=0)\n",
    "# news = news[[\"label\"]]\n",
    "# news.index.rename(\"Datetime\", inplace=True)\n",
    "# data[\"label\"] = news[\"label\"]\n",
    "# data.fillna(method=\"ffill\", inplace=True)"
   ]
  },
  {
   "cell_type": "code",
   "execution_count": 5,
   "metadata": {},
   "outputs": [
    {
     "data": {
      "text/plain": [
       "Index(['open', 'high', 'low', 'close', 'adjClose', 'volume'], dtype='object')"
      ]
     },
     "execution_count": 5,
     "metadata": {},
     "output_type": "execute_result"
    }
   ],
   "source": [
    "data.columns"
   ]
  },
  {
   "cell_type": "code",
   "execution_count": 6,
   "metadata": {},
   "outputs": [],
   "source": [
    "def add_feature(df, **kwargs):\n",
    "    \n",
    "    fred = Fred(api_key='d929757b1ad9cd1d5115620a50badb0a')\n",
    "    \n",
    "    data = df.copy()\n",
    "\n",
    "    data[\"Log_Close\"]                              = np.log(data[\"adjClose\"])\n",
    "    data[\"AC_pct\"]                                 = data['adjClose'].pct_change()\n",
    "    data[\"V_pct\"]                                  = data['volume'].pct_change()\n",
    "    data[\"sma(5)\"]                                 = sma(data, 5)\n",
    "    data[\"sma(20)\"]                                = sma(data, 20)\n",
    "    data[\"High_Yield\"]                             = fred.get_series('BAMLH0A0HYM2', data.index[0]).fillna(method=\"ffill\")\n",
    "    data[\"volume_sma5\"]                            = data[\"volume\"].rolling(5).mean()\n",
    "    data[\"volume_sma20\"]                           = data[\"volume\"].rolling(20).mean()\n",
    "    data[\"T10Y2Y\"]                                 = fred.get_series('T10Y2Y', data.index[0])\n",
    "    data[\"VIX\"]                                    = fred.get_series('VIXCLS', data.index[0])\n",
    "    data[\"RSI\"]                                    = rsi(data, **kwargs)\n",
    "    data[[\"macd\",\"macd_signal\",\"macd_oscillator\"]] = macd(data, **kwargs)\n",
    "#-------------------------------------------------------------------------------------------------------------------------------------------\n",
    "    \n",
    "    OBV = []\n",
    "    OBV.append(0)\n",
    "    for i in range(1, len(data['adjClose'])):\n",
    "        if data['adjClose'][i] > data['adjClose'][i-1]: \n",
    "            OBV.append(OBV[-1] + data['volume'][i]) \n",
    "        elif data['adjClose'][i] < data['adjClose'][i-1]:\n",
    "            OBV.append( OBV[-1] - data['volume'][i])\n",
    "        else:\n",
    "         OBV.append(OBV[-1])\n",
    "    data['OBV'] = OBV\n",
    "    data[\"OBV_mv20\"] = data[\"OBV\"].rolling(20).mean()\n",
    "    \n",
    "    #-------------------------------------------------------------------------------------------------------------------------------------------\n",
    "    \n",
    "    # signal = []\n",
    "    # for idx in range(len(data['adjClose'])):\n",
    "    #     if idx == 0 or idx+1 == len(data['adjClose']):\n",
    "    #         signal.append(0)   \n",
    "    #     else:\n",
    "    #         if data['adjClose'].iloc[idx-1]> data['adjClose'].iloc[idx] and data['adjClose'].iloc[idx+1]> data['adjClose'].iloc[idx]:\n",
    "    #             signal.append(1) #----- 상승\n",
    "    #         elif data['adjClose'].iloc[idx-1]< data['adjClose'].iloc[idx] and data['adjClose'].iloc[idx+1]< data['adjClose'].iloc[idx]:\n",
    "    #             signal.append(-1) #----- 하락\n",
    "    #         else:\n",
    "    #             signal.append(0) #----- 횡보추세\n",
    "    # data['trend'] = signal\n",
    "\n",
    "    # data[\"diff\"] = data[\"Log_Close\"].diff()\n",
    "    # data[\"trend\"] = [1 if data.iloc[i][\"diff\"] > 0 else 0 for i in range(len(data))]\n",
    "\n",
    "    \n",
    "        \n",
    "    \n",
    "    # -------------------------------------------------------------------------------------------------------------------------------------------\n",
    "    \n",
    "    # data['r_signal']    = [-1 if data.iloc[i]['RSI'] > 70 else 1 if data.iloc[i]['RSI'] < 30 else 0 for i in range(len(data))] \n",
    "    # data['m_signal']    = [-1 if data.iloc[i]['macd'] < data.iloc[i]['macd_signal'] else 1 if data.iloc[i]['macd'] > data.iloc[i]['macd_signal'] else 0 for i in range(len(data))] \n",
    "\n",
    "\n",
    "    # sma_signal = []\n",
    "    # for i in range(len(data[\"adjClose\"])):\n",
    "    #     if data.iloc[i][\"sma(5)\"] < data.iloc[i][\"adjClose\"] and data.iloc[i-1][\"sma(5)\"] > data.iloc[i-1][\"adjClose\"]:\n",
    "    #         sma_signal.append(1)\n",
    "    #     elif data.iloc[i][\"sma(5)\"] > data.iloc[i][\"adjClose\"] and data.iloc[i-1][\"sma(5)\"] < data.iloc[i-1][\"adjClose\"]:\n",
    "    #         sma_signal.append(-1)\n",
    "    #     else:\n",
    "    #         sma_signal.append(0)\n",
    "    # data[\"sma_signal\"] = sma_signal\n",
    "    data[\"signal\"] =  [  1 if data[\"adjClose\"].diff(1).iloc[i]>0 and data[\"adjClose\"].diff(-1).iloc[i]>0\n",
    "                                else -1 if data[\"adjClose\"].diff(1).iloc[i]<0 and data[\"adjClose\"].diff(-1).iloc[i]<0\n",
    "                                else 0 for i in range(len(data))]\n",
    "\n",
    "    # #-------------------------------------------------------------------------------------------------------------------------------------------\n",
    "    \n",
    "    target = []\n",
    "    for i in range(1, len(data)+1):\n",
    "        target.append(data.iloc[i-1:i, -1:].values.sum())\n",
    "    data['tt'] = target\n",
    "\n",
    "    data['position'] = 0\n",
    "    data['position'].mask(data['tt'] >= 1, 'buy', inplace=True)\n",
    "    data['position'].mask(data['tt'] == 0, 'hold', inplace=True)\n",
    "    data['position'].mask(data['tt'] <= -1, 'sell', inplace=True)\n",
    "\n",
    "    data['position'].mask(data['position'] == 'hold', 0, inplace=True)  # 0은 hold\n",
    "    data['position'].mask(data['position'] == 'buy', 1, inplace=True)   # 1은 매수 \n",
    "    data['position'].mask(data['position'] == 'sell', 2, inplace=True)  # 2는 매도\n",
    "    data['position'] = data['position'].astype('int')\n",
    "\n",
    "    #-------------------------------------------------------------------------------------------------------------------------------------------\n",
    "    \n",
    "    data.dropna(axis=0, inplace=True)\n",
    "    # data.drop([\"open\",\"high\",\"low\",\"close\",\"adjClose\",\"tt\",\"m_signal\",\"r_signal\",\"trend\",\"macd_oscillator\",\"macd_signal\",\"volume_sma5\",\"sma_signal\",\"OBV\"], axis=1, inplace=True)\n",
    "    # data.drop([\"Open\",\"High\",\"Low\",\"Close\",\"volume_sma5\",\"macd_oscillator\",\"macd_signal\",\"Log_Close\"], axis=1, inplace=True)\n",
    "    data.drop([\"tt\"], axis=1, inplace=True)\n",
    "    return data"
   ]
  },
  {
   "cell_type": "code",
   "execution_count": 7,
   "metadata": {},
   "outputs": [
    {
     "data": {
      "text/plain": [
       "Index(['open', 'high', 'low', 'close', 'adjClose', 'volume'], dtype='object')"
      ]
     },
     "execution_count": 7,
     "metadata": {},
     "output_type": "execute_result"
    }
   ],
   "source": [
    "data.columns"
   ]
  },
  {
   "cell_type": "code",
   "execution_count": 8,
   "metadata": {},
   "outputs": [],
   "source": [
    "data = add_feature(data)"
   ]
  },
  {
   "cell_type": "code",
   "execution_count": 9,
   "metadata": {},
   "outputs": [],
   "source": [
    "import matplotlib.pyplot as plt\n",
    "from pylab import rcParams\n",
    "import seaborn as sns\n",
    "from sklearn.ensemble import RandomForestRegressor\n",
    "from sklearn.linear_model import LinearRegression\n",
    "from sklearn.model_selection import cross_val_score, train_test_split, GridSearchCV\n",
    "from sklearn.feature_selection import RFECV, SelectFromModel, SelectKBest\n",
    "from sklearn.preprocessing import StandardScaler, MinMaxScaler\n",
    "from sklearn import metrics"
   ]
  },
  {
   "cell_type": "code",
   "execution_count": 10,
   "metadata": {},
   "outputs": [],
   "source": [
    "# 타겟값 분리\n",
    "X = data.drop('position', axis=1)\n",
    "y = data[['position']]"
   ]
  },
  {
   "cell_type": "code",
   "execution_count": 11,
   "metadata": {},
   "outputs": [],
   "source": [
    "# 스탠다드 스케일러 사용 단, 타겟값은 적용하지 않음\n",
    "ms = MinMaxScaler()\n",
    "X  = ms.fit_transform(X)"
   ]
  },
  {
   "cell_type": "code",
   "execution_count": 12,
   "metadata": {},
   "outputs": [],
   "source": [
    "X = pd.DataFrame(X, columns=data.columns[:-1], index=data.index)"
   ]
  },
  {
   "cell_type": "code",
   "execution_count": 13,
   "metadata": {},
   "outputs": [],
   "source": [
    "# # 학습비율\n",
    "# train_size = int(len(X) * 0.85)\n",
    "# X_train, X_test = X.iloc[:train_size, :], X.iloc[train_size:, :]\n",
    "# y_train, y_test = y.iloc[:train_size, :], y.iloc[train_size:, :]"
   ]
  },
  {
   "cell_type": "code",
   "execution_count": 14,
   "metadata": {},
   "outputs": [],
   "source": [
    "X_train, X_test = X.iloc[:-48, :], X.iloc[-48:, :]\n",
    "y_train, y_test = y.iloc[:-48, :], y.iloc[-48:, :]"
   ]
  },
  {
   "cell_type": "code",
   "execution_count": 15,
   "metadata": {},
   "outputs": [
    {
     "data": {
      "text/plain": [
       "(48, 26)"
      ]
     },
     "execution_count": 15,
     "metadata": {},
     "output_type": "execute_result"
    }
   ],
   "source": [
    "X_test.shape"
   ]
  },
  {
   "cell_type": "code",
   "execution_count": 16,
   "metadata": {},
   "outputs": [],
   "source": [
    "# 강사님의 윈도우 코드 복붙(이건 우리 입맛에 나중에 바꿔도 상관없음)\n",
    "def my_window_data(feature,target, window_size=20):\n",
    "    data = pd.concat([feature,target], axis = 1)\n",
    "    X_list = []\n",
    "    y_list = []\n",
    "    for i in range(len(data) - window_size-1):\n",
    "        X = data.iloc[i:i+window_size]\n",
    "        y = target.iloc[i+window_size]\n",
    "        X_list.append(np.array(X))      #[[] ,[] ,[] ,[]]\n",
    "        y_list.append(np.array(y))       #[]   \n",
    "    return  np.array(X_list), np.array(y_list)"
   ]
  },
  {
   "cell_type": "code",
   "execution_count": 17,
   "metadata": {},
   "outputs": [],
   "source": [
    "X_train, y_train = my_window_data(X_train, y_train)\n",
    "X_test , y_test = my_window_data(X_test , y_test)"
   ]
  },
  {
   "cell_type": "code",
   "execution_count": 18,
   "metadata": {},
   "outputs": [
    {
     "data": {
      "text/plain": [
       "((6393, 20, 27), (6393, 1))"
      ]
     },
     "execution_count": 18,
     "metadata": {},
     "output_type": "execute_result"
    }
   ],
   "source": [
    "X_train.shape, y_train.shape"
   ]
  },
  {
   "cell_type": "code",
   "execution_count": 19,
   "metadata": {},
   "outputs": [
    {
     "data": {
      "text/plain": [
       "((27, 20, 27), (27, 1))"
      ]
     },
     "execution_count": 19,
     "metadata": {},
     "output_type": "execute_result"
    }
   ],
   "source": [
    "X_test.shape, y_test.shape"
   ]
  },
  {
   "cell_type": "markdown",
   "metadata": {},
   "source": [
    "\n",
    "# 모델"
   ]
  },
  {
   "cell_type": "markdown",
   "metadata": {},
   "source": [
    "## LSTM"
   ]
  },
  {
   "cell_type": "code",
   "execution_count": 20,
   "metadata": {},
   "outputs": [],
   "source": [
    "BATCH = 20\n",
    "EPOCH = 100"
   ]
  },
  {
   "cell_type": "code",
   "execution_count": 21,
   "metadata": {},
   "outputs": [],
   "source": [
    "model_path = f'./model_2021/LSTM.h5'\n",
    "checkpoint = ModelCheckpoint(filepath=model_path ,\n",
    "                             monitor='val_accuracy',   # val_loss 값이 개선되었을때 호출됩니다\n",
    "                             verbose=1,            # 로그를 출력합니다\n",
    "                             save_best_only=True,  # 가장 best 값만 저장합니다\n",
    "                             mode='auto'           # auto는 알아서 best를 찾습니다. min/max\n",
    "                            )\n",
    "\n",
    "early_stopping = EarlyStopping(monitor='val_accuracy',  # 모니터 기준 설정 (val loss) \n",
    "                              patience=20,         # 10회 Epoch동안 개선되지 않는다면 종료\n",
    "                             )"
   ]
  },
  {
   "cell_type": "code",
   "execution_count": 22,
   "metadata": {},
   "outputs": [
    {
     "name": "stdout",
     "output_type": "stream",
     "text": [
      "Model: \"sequential\"\n",
      "_________________________________________________________________\n",
      " Layer (type)                Output Shape              Param #   \n",
      "=================================================================\n",
      " lstm (LSTM)                 (None, 20, 50)            15600     \n",
      "                                                                 \n",
      " dropout (Dropout)           (None, 20, 50)            0         \n",
      "                                                                 \n",
      " lstm_1 (LSTM)               (None, 64)                29440     \n",
      "                                                                 \n",
      " dropout_1 (Dropout)         (None, 64)                0         \n",
      "                                                                 \n",
      " dense (Dense)               (None, 3)                 195       \n",
      "                                                                 \n",
      "=================================================================\n",
      "Total params: 45,235\n",
      "Trainable params: 45,235\n",
      "Non-trainable params: 0\n",
      "_________________________________________________________________\n",
      "None\n"
     ]
    }
   ],
   "source": [
    "with tf.device(\"/gpu:0\"):\n",
    "    model_LSTM = Sequential()                                     # window_size,  features\n",
    "    model_LSTM.add(LSTM(50, return_sequences=True, input_shape=(X_train.shape[1], X_train.shape[2]))) \n",
    "    model_LSTM.add(Dropout(0.2))\n",
    "    model_LSTM.add(LSTM(64, return_sequences=False))\n",
    "    model_LSTM.add(Dropout(0.2))\n",
    "    model_LSTM.add(Dense(units=3 , activation='softmax')) \n",
    "                 #--------------- 멀티분류\n",
    "\n",
    "    adam = optimizers.Adam(lr = 0.001) # Learning Rate 학습속도\n",
    "\n",
    "    model_LSTM.compile(optimizer=adam, loss='sparse_categorical_crossentropy',    #------출력층을  3개의 0,1,2 관망매도매수 구간 \n",
    "                                                        #------ sparse_categorical_crossentropy , 원한인코딩안해도됨 정수그대로 ,  \n",
    "                                                        # integer type 클래스 -> one-hot encoding하지 않고 정수 형태로 label(y)을 넣어줌\n",
    "    metrics=['accuracy'])                     \n",
    "\n",
    "    print(model_LSTM.summary())"
   ]
  },
  {
   "cell_type": "code",
   "execution_count": 23,
   "metadata": {},
   "outputs": [
    {
     "name": "stdout",
     "output_type": "stream",
     "text": [
      "Epoch 1/100\n",
      "315/320 [============================>.] - ETA: 0s - loss: 1.0240 - accuracy: 0.4660\n",
      "Epoch 1: val_accuracy improved from -inf to 0.55556, saving model to ./model_2021\\LSTM.h5\n",
      "320/320 [==============================] - 7s 9ms/step - loss: 1.0227 - accuracy: 0.4677 - val_loss: 0.9076 - val_accuracy: 0.5556\n",
      "Epoch 2/100\n",
      "317/320 [============================>.] - ETA: 0s - loss: 0.9494 - accuracy: 0.5319\n",
      "Epoch 2: val_accuracy improved from 0.55556 to 0.62963, saving model to ./model_2021\\LSTM.h5\n",
      "320/320 [==============================] - 2s 7ms/step - loss: 0.9496 - accuracy: 0.5315 - val_loss: 0.8785 - val_accuracy: 0.6296\n",
      "Epoch 3/100\n",
      "318/320 [============================>.] - ETA: 0s - loss: 0.9180 - accuracy: 0.5552\n",
      "Epoch 3: val_accuracy did not improve from 0.62963\n",
      "320/320 [==============================] - 2s 6ms/step - loss: 0.9179 - accuracy: 0.5556 - val_loss: 0.8366 - val_accuracy: 0.6296\n",
      "Epoch 4/100\n",
      "314/320 [============================>.] - ETA: 0s - loss: 0.8917 - accuracy: 0.5680\n",
      "Epoch 4: val_accuracy improved from 0.62963 to 0.66667, saving model to ./model_2021\\LSTM.h5\n",
      "320/320 [==============================] - 2s 6ms/step - loss: 0.8923 - accuracy: 0.5667 - val_loss: 0.8298 - val_accuracy: 0.6667\n",
      "Epoch 5/100\n",
      "318/320 [============================>.] - ETA: 0s - loss: 0.8783 - accuracy: 0.5769\n",
      "Epoch 5: val_accuracy did not improve from 0.66667\n",
      "320/320 [==============================] - 2s 6ms/step - loss: 0.8783 - accuracy: 0.5766 - val_loss: 0.8687 - val_accuracy: 0.6667\n",
      "Epoch 6/100\n",
      "319/320 [============================>.] - ETA: 0s - loss: 0.8689 - accuracy: 0.5713\n",
      "Epoch 6: val_accuracy did not improve from 0.66667\n",
      "320/320 [==============================] - 2s 6ms/step - loss: 0.8695 - accuracy: 0.5709 - val_loss: 0.8187 - val_accuracy: 0.6667\n",
      "Epoch 7/100\n",
      "320/320 [==============================] - ETA: 0s - loss: 0.8693 - accuracy: 0.5784\n",
      "Epoch 7: val_accuracy did not improve from 0.66667\n",
      "320/320 [==============================] - 2s 7ms/step - loss: 0.8693 - accuracy: 0.5784 - val_loss: 0.8288 - val_accuracy: 0.6296\n",
      "Epoch 8/100\n",
      "316/320 [============================>.] - ETA: 0s - loss: 0.8632 - accuracy: 0.5832\n",
      "Epoch 8: val_accuracy did not improve from 0.66667\n",
      "320/320 [==============================] - 2s 7ms/step - loss: 0.8630 - accuracy: 0.5830 - val_loss: 0.8146 - val_accuracy: 0.6296\n",
      "Epoch 9/100\n",
      "317/320 [============================>.] - ETA: 0s - loss: 0.8603 - accuracy: 0.5803\n",
      "Epoch 9: val_accuracy did not improve from 0.66667\n",
      "320/320 [==============================] - 2s 6ms/step - loss: 0.8603 - accuracy: 0.5808 - val_loss: 0.8307 - val_accuracy: 0.6667\n",
      "Epoch 10/100\n",
      "317/320 [============================>.] - ETA: 0s - loss: 0.8586 - accuracy: 0.5833\n",
      "Epoch 10: val_accuracy did not improve from 0.66667\n",
      "320/320 [==============================] - 2s 6ms/step - loss: 0.8577 - accuracy: 0.5836 - val_loss: 0.8238 - val_accuracy: 0.6667\n",
      "Epoch 11/100\n",
      "313/320 [============================>.] - ETA: 0s - loss: 0.8537 - accuracy: 0.5853\n",
      "Epoch 11: val_accuracy did not improve from 0.66667\n",
      "320/320 [==============================] - 2s 6ms/step - loss: 0.8540 - accuracy: 0.5853 - val_loss: 0.8279 - val_accuracy: 0.6667\n",
      "Epoch 12/100\n",
      "314/320 [============================>.] - ETA: 0s - loss: 0.8532 - accuracy: 0.5838\n",
      "Epoch 12: val_accuracy did not improve from 0.66667\n",
      "320/320 [==============================] - 2s 6ms/step - loss: 0.8521 - accuracy: 0.5841 - val_loss: 0.8037 - val_accuracy: 0.6296\n",
      "Epoch 13/100\n",
      "318/320 [============================>.] - ETA: 0s - loss: 0.8503 - accuracy: 0.5841\n",
      "Epoch 13: val_accuracy did not improve from 0.66667\n",
      "320/320 [==============================] - 2s 6ms/step - loss: 0.8508 - accuracy: 0.5835 - val_loss: 0.8227 - val_accuracy: 0.6667\n",
      "Epoch 14/100\n",
      "315/320 [============================>.] - ETA: 0s - loss: 0.8481 - accuracy: 0.5849\n",
      "Epoch 14: val_accuracy did not improve from 0.66667\n",
      "320/320 [==============================] - 2s 6ms/step - loss: 0.8469 - accuracy: 0.5856 - val_loss: 0.8362 - val_accuracy: 0.6296\n",
      "Epoch 15/100\n",
      "320/320 [==============================] - ETA: 0s - loss: 0.8468 - accuracy: 0.5816\n",
      "Epoch 15: val_accuracy did not improve from 0.66667\n",
      "320/320 [==============================] - 2s 6ms/step - loss: 0.8468 - accuracy: 0.5816 - val_loss: 0.8004 - val_accuracy: 0.6667\n",
      "Epoch 16/100\n",
      "316/320 [============================>.] - ETA: 0s - loss: 0.8385 - accuracy: 0.5880\n",
      "Epoch 16: val_accuracy improved from 0.66667 to 0.70370, saving model to ./model_2021\\LSTM.h5\n",
      "320/320 [==============================] - 2s 6ms/step - loss: 0.8395 - accuracy: 0.5883 - val_loss: 0.7985 - val_accuracy: 0.7037\n",
      "Epoch 17/100\n",
      "315/320 [============================>.] - ETA: 0s - loss: 0.8394 - accuracy: 0.5919\n",
      "Epoch 17: val_accuracy did not improve from 0.70370\n",
      "320/320 [==============================] - 2s 6ms/step - loss: 0.8388 - accuracy: 0.5921 - val_loss: 0.7528 - val_accuracy: 0.6667\n",
      "Epoch 18/100\n",
      "315/320 [============================>.] - ETA: 0s - loss: 0.8360 - accuracy: 0.5943\n",
      "Epoch 18: val_accuracy did not improve from 0.70370\n",
      "320/320 [==============================] - 2s 6ms/step - loss: 0.8369 - accuracy: 0.5936 - val_loss: 0.8054 - val_accuracy: 0.6667\n",
      "Epoch 19/100\n",
      "313/320 [============================>.] - ETA: 0s - loss: 0.8383 - accuracy: 0.5853\n",
      "Epoch 19: val_accuracy did not improve from 0.70370\n",
      "320/320 [==============================] - 2s 6ms/step - loss: 0.8367 - accuracy: 0.5867 - val_loss: 0.8040 - val_accuracy: 0.6296\n",
      "Epoch 20/100\n",
      "314/320 [============================>.] - ETA: 0s - loss: 0.8309 - accuracy: 0.5884\n",
      "Epoch 20: val_accuracy did not improve from 0.70370\n",
      "320/320 [==============================] - 2s 7ms/step - loss: 0.8311 - accuracy: 0.5885 - val_loss: 0.7888 - val_accuracy: 0.5926\n",
      "Epoch 21/100\n",
      "313/320 [============================>.] - ETA: 0s - loss: 0.8314 - accuracy: 0.5922\n",
      "Epoch 21: val_accuracy did not improve from 0.70370\n",
      "320/320 [==============================] - 2s 6ms/step - loss: 0.8319 - accuracy: 0.5914 - val_loss: 0.7767 - val_accuracy: 0.6296\n",
      "Epoch 22/100\n",
      "317/320 [============================>.] - ETA: 0s - loss: 0.8271 - accuracy: 0.5931\n",
      "Epoch 22: val_accuracy did not improve from 0.70370\n",
      "320/320 [==============================] - 2s 6ms/step - loss: 0.8268 - accuracy: 0.5928 - val_loss: 0.8270 - val_accuracy: 0.6296\n",
      "Epoch 23/100\n",
      "317/320 [============================>.] - ETA: 0s - loss: 0.8249 - accuracy: 0.6009\n",
      "Epoch 23: val_accuracy did not improve from 0.70370\n",
      "320/320 [==============================] - 2s 6ms/step - loss: 0.8258 - accuracy: 0.6000 - val_loss: 0.7847 - val_accuracy: 0.6667\n",
      "Epoch 24/100\n",
      "317/320 [============================>.] - ETA: 0s - loss: 0.8219 - accuracy: 0.5987\n",
      "Epoch 24: val_accuracy did not improve from 0.70370\n",
      "320/320 [==============================] - 2s 6ms/step - loss: 0.8212 - accuracy: 0.5991 - val_loss: 0.7937 - val_accuracy: 0.6296\n",
      "Epoch 25/100\n",
      "312/320 [============================>.] - ETA: 0s - loss: 0.8185 - accuracy: 0.5992\n",
      "Epoch 25: val_accuracy did not improve from 0.70370\n",
      "320/320 [==============================] - 2s 6ms/step - loss: 0.8198 - accuracy: 0.5986 - val_loss: 0.8452 - val_accuracy: 0.6667\n",
      "Epoch 26/100\n",
      "312/320 [============================>.] - ETA: 0s - loss: 0.8167 - accuracy: 0.6013\n",
      "Epoch 26: val_accuracy did not improve from 0.70370\n",
      "320/320 [==============================] - 2s 6ms/step - loss: 0.8175 - accuracy: 0.6010 - val_loss: 0.7748 - val_accuracy: 0.6667\n",
      "Epoch 27/100\n",
      "314/320 [============================>.] - ETA: 0s - loss: 0.8194 - accuracy: 0.5981\n",
      "Epoch 27: val_accuracy did not improve from 0.70370\n",
      "320/320 [==============================] - 2s 6ms/step - loss: 0.8190 - accuracy: 0.5996 - val_loss: 0.8489 - val_accuracy: 0.5926\n",
      "Epoch 28/100\n",
      "320/320 [==============================] - ETA: 0s - loss: 0.8150 - accuracy: 0.6074\n",
      "Epoch 28: val_accuracy did not improve from 0.70370\n",
      "320/320 [==============================] - 2s 6ms/step - loss: 0.8150 - accuracy: 0.6074 - val_loss: 0.8003 - val_accuracy: 0.6296\n",
      "Epoch 29/100\n",
      "315/320 [============================>.] - ETA: 0s - loss: 0.8095 - accuracy: 0.6100\n",
      "Epoch 29: val_accuracy did not improve from 0.70370\n",
      "320/320 [==============================] - 2s 6ms/step - loss: 0.8089 - accuracy: 0.6105 - val_loss: 0.8262 - val_accuracy: 0.6667\n",
      "Epoch 30/100\n",
      "317/320 [============================>.] - ETA: 0s - loss: 0.8052 - accuracy: 0.6109\n",
      "Epoch 30: val_accuracy did not improve from 0.70370\n",
      "320/320 [==============================] - 2s 6ms/step - loss: 0.8052 - accuracy: 0.6107 - val_loss: 0.7846 - val_accuracy: 0.6296\n",
      "Epoch 31/100\n",
      "312/320 [============================>.] - ETA: 0s - loss: 0.8007 - accuracy: 0.6067\n",
      "Epoch 31: val_accuracy did not improve from 0.70370\n",
      "320/320 [==============================] - 2s 6ms/step - loss: 0.8014 - accuracy: 0.6077 - val_loss: 0.8485 - val_accuracy: 0.6296\n",
      "Epoch 32/100\n",
      "313/320 [============================>.] - ETA: 0s - loss: 0.8031 - accuracy: 0.6091\n",
      "Epoch 32: val_accuracy did not improve from 0.70370\n",
      "320/320 [==============================] - 2s 6ms/step - loss: 0.8018 - accuracy: 0.6100 - val_loss: 0.8168 - val_accuracy: 0.6296\n",
      "Epoch 33/100\n",
      "314/320 [============================>.] - ETA: 0s - loss: 0.7917 - accuracy: 0.6153\n",
      "Epoch 33: val_accuracy did not improve from 0.70370\n",
      "320/320 [==============================] - 2s 6ms/step - loss: 0.7924 - accuracy: 0.6146 - val_loss: 0.7668 - val_accuracy: 0.6296\n",
      "Epoch 34/100\n",
      "312/320 [============================>.] - ETA: 0s - loss: 0.7910 - accuracy: 0.6109\n",
      "Epoch 34: val_accuracy did not improve from 0.70370\n",
      "320/320 [==============================] - 2s 6ms/step - loss: 0.7907 - accuracy: 0.6110 - val_loss: 0.8991 - val_accuracy: 0.5926\n",
      "Epoch 35/100\n",
      "317/320 [============================>.] - ETA: 0s - loss: 0.7839 - accuracy: 0.6188\n",
      "Epoch 35: val_accuracy did not improve from 0.70370\n",
      "320/320 [==============================] - 2s 6ms/step - loss: 0.7853 - accuracy: 0.6179 - val_loss: 0.8677 - val_accuracy: 0.6296\n",
      "Epoch 36/100\n",
      "316/320 [============================>.] - ETA: 0s - loss: 0.7799 - accuracy: 0.6108\n",
      "Epoch 36: val_accuracy did not improve from 0.70370\n",
      "320/320 [==============================] - 2s 6ms/step - loss: 0.7801 - accuracy: 0.6107 - val_loss: 0.7744 - val_accuracy: 0.6296\n",
      "1/1 [==============================] - 0s 15ms/step - loss: 0.7744 - accuracy: 0.6296\n"
     ]
    }
   ],
   "source": [
    "hist_LSTM = model_LSTM.fit(X_train, y_train\n",
    "                  , batch_size= BATCH\n",
    "                  , epochs= EPOCH # \n",
    "                  , validation_data=(X_test, y_test)\n",
    "                  , callbacks= [checkpoint, early_stopping]\n",
    "                 )\n",
    "\n",
    "history_LSTM = model_LSTM.evaluate(X_test, y_test)"
   ]
  },
  {
   "cell_type": "code",
   "execution_count": 24,
   "metadata": {},
   "outputs": [],
   "source": [
    "# plt.style.use(\"grayscale\")\n",
    "# plt.figure(figsize=(20,10))\n",
    "# plt.plot(hist_LSTM.history[\"loss\"], label=\"train_loss\", color='b', marker='o')\n",
    "# plt.plot(hist.history[\"val_loss\"], label=\"val_loss\", color='k', marker='o')\n",
    "# plt.plot(hist.history[\"accuracy\"], label=\"train_acc\", color='r', marker='o')\n",
    "# plt.plot(hist.history[\"val_accuracy\"], label=\"val_acc\", color='g', marker='o')\n",
    "# plt.title(\"Training Loss and Accuracy\")\n",
    "# plt.xlabel(\"Epoch\")\n",
    "# plt.ylabel(\"Loss/Accuracy\")\n",
    "# plt.legend(loc=\"upper right\")\n"
   ]
  },
  {
   "cell_type": "code",
   "execution_count": 25,
   "metadata": {},
   "outputs": [
    {
     "name": "stdout",
     "output_type": "stream",
     "text": [
      "1/1 [==============================] - 0s 351ms/step\n",
      "[[6.75526336e-02 6.26778677e-02 8.69769514e-01]\n",
      " [4.01469648e-01 3.47334445e-01 2.51195908e-01]\n",
      " [1.37049943e-01 1.03453867e-01 7.59496212e-01]\n",
      " [4.39486325e-01 9.41581726e-02 4.66355473e-01]\n",
      " [3.08929741e-01 6.83691129e-02 6.22701108e-01]\n",
      " [9.07524750e-02 1.17154188e-01 7.92093396e-01]\n",
      " [3.09739619e-01 7.15924352e-02 6.18667960e-01]\n",
      " [2.67280757e-01 1.25340670e-01 6.07378602e-01]\n",
      " [3.81153226e-01 5.23815632e-01 9.50310901e-02]\n",
      " [1.44240767e-01 8.47603083e-01 8.15622881e-03]\n",
      " [3.81201953e-02 9.61406171e-01 4.73716442e-04]\n",
      " [4.20833081e-01 5.55061042e-01 2.41058413e-02]\n",
      " [1.84864730e-01 8.08318734e-01 6.81655807e-03]\n",
      " [1.35828987e-01 8.62964272e-01 1.20669871e-03]\n",
      " [1.03147559e-01 8.95085990e-01 1.76644116e-03]\n",
      " [1.30325153e-01 8.68718147e-01 9.56695527e-04]\n",
      " [3.08014750e-01 6.81661308e-01 1.03239417e-02]\n",
      " [1.75043941e-01 8.21406066e-01 3.54999048e-03]\n",
      " [2.33387589e-01 7.61749208e-01 4.86316299e-03]\n",
      " [1.36329755e-01 8.59121382e-01 4.54884302e-03]\n",
      " [1.61939651e-01 8.35926473e-01 2.13391776e-03]\n",
      " [4.14480031e-01 5.31126976e-01 5.43930270e-02]\n",
      " [6.72896430e-02 4.83198501e-02 8.84390533e-01]\n",
      " [2.59006143e-01 8.58325511e-02 6.55161321e-01]\n",
      " [4.00276989e-01 7.59387314e-02 5.23784280e-01]\n",
      " [1.04856424e-01 7.77507201e-02 8.17392886e-01]\n",
      " [9.16381106e-02 1.73750728e-01 7.34611154e-01]]\n"
     ]
    },
    {
     "data": {
      "text/plain": [
       "((27,), (27, 1))"
      ]
     },
     "execution_count": 25,
     "metadata": {},
     "output_type": "execute_result"
    }
   ],
   "source": [
    "pred = model_LSTM.predict(X_test)\n",
    "print(pred)\n",
    "pp_LSTM = np.argmax(pred, axis=-1)\n",
    "pp_LSTM.shape, y_test.shape"
   ]
  },
  {
   "cell_type": "code",
   "execution_count": 26,
   "metadata": {},
   "outputs": [
    {
     "name": "stdout",
     "output_type": "stream",
     "text": [
      "F1 score:0.4897\n"
     ]
    }
   ],
   "source": [
    "f1_LSTM = f1_score(y_test, pp_LSTM, average='macro')\n",
    "print(f\"F1 score:{f1_LSTM:.4f}\")"
   ]
  },
  {
   "cell_type": "code",
   "execution_count": 27,
   "metadata": {},
   "outputs": [
    {
     "data": {
      "text/plain": [
       "array([0, 1, 2])"
      ]
     },
     "execution_count": 27,
     "metadata": {},
     "output_type": "execute_result"
    }
   ],
   "source": [
    "np.unique(y_test)"
   ]
  },
  {
   "cell_type": "code",
   "execution_count": 28,
   "metadata": {},
   "outputs": [
    {
     "name": "stdout",
     "output_type": "stream",
     "text": [
      "              precision    recall  f1-score   support\n",
      "\n",
      "        hold       0.00      0.00      0.00         7\n",
      "         buy       0.71      0.83      0.77        12\n",
      "        sell       0.58      0.88      0.70         8\n",
      "\n",
      "    accuracy                           0.63        27\n",
      "   macro avg       0.43      0.57      0.49        27\n",
      "weighted avg       0.49      0.63      0.55        27\n",
      "\n"
     ]
    }
   ],
   "source": [
    "print(classification_report( y_test, pp_LSTM, target_names=['hold','buy', 'sell']))"
   ]
  },
  {
   "cell_type": "code",
   "execution_count": 29,
   "metadata": {},
   "outputs": [
    {
     "name": "stdout",
     "output_type": "stream",
     "text": [
      "[[ 0  4  3]\n",
      " [ 0 10  2]\n",
      " [ 1  0  7]]\n"
     ]
    }
   ],
   "source": [
    "from sklearn.metrics import confusion_matrix\n",
    "res_LSTM = confusion_matrix(y_test, pp_LSTM)\n",
    "print(res_LSTM)  "
   ]
  },
  {
   "cell_type": "code",
   "execution_count": 30,
   "metadata": {
    "executionInfo": {
     "elapsed": 19,
     "status": "ok",
     "timestamp": 1668420608891,
     "user": {
      "displayName": "신진명",
      "userId": "13294197785714083129"
     },
     "user_tz": -540
    },
    "id": "5T8sAWqWTUEn"
   },
   "outputs": [],
   "source": [
    "class backtest:\n",
    "    def __init__(self, df ,position, result_show =False):\n",
    "        self.df =df\n",
    "        self.position = position\n",
    "        self.result_show = result_show\n",
    "        self.df = self.evaluate(self.df, cost=.001)\n",
    "        self.performance(self.df)\n",
    "\n",
    "\n",
    "    def __get_period(self, df):\n",
    "\n",
    "        df.dropna(inplace=True)\n",
    "        end_date = df['Datetime'].iloc[-1]\n",
    "        start_date = df['Datetime'].iloc[0]\n",
    "        days_between = (end_date - start_date).days\n",
    "        return abs(days_between)\n",
    "    def __annualize(self, rate, period):\n",
    "        if period < 360:\n",
    "            rate = ((rate-1) / period * 365) + 1\n",
    "        elif period > 365:\n",
    "            rate = rate ** (365 / period)\n",
    "        else:\n",
    "            rate = rate\n",
    "        return round(rate, 4)\n",
    "\n",
    "\n",
    "    def __get_sharpe_ratio(self, df, rf_rate):\n",
    "        '''\n",
    "        Calculate sharpe ratio\n",
    "        :param df:\n",
    "        :param rf_rate:\n",
    "        :return: Sharpe ratio\n",
    "        '''\n",
    "        period = self.__get_period(df)\n",
    "        rf_rate_daily = rf_rate / 365 + 1\n",
    "        df['exs_rtn_daily'] = df['daily_rtn'] - rf_rate_daily\n",
    "        exs_rtn_annual = (self.__annualize(df['acc_rtn'][-1:], period) - 1) - rf_rate\n",
    "        exs_rtn_vol_annual = df['exs_rtn_daily'].std() * np.sqrt(365)\n",
    "        sharpe_ratio = exs_rtn_annual / exs_rtn_vol_annual if exs_rtn_vol_annual>0 else 0\n",
    "        return round(sharpe_ratio, 4)\n",
    "    def evaluate(self, df, cost= .1):\n",
    "        '''\n",
    "        Calculate daily returns and MDDs of portfolio\n",
    "        :param df: The dataframe containing trading position\n",
    "        :param cost: Transaction cost when sell\n",
    "        :return: Returns, MDD\n",
    "        '''\n",
    "        df['signal_price'] = np.nan\n",
    "        df['signal_price'].mask(df[self.position]== 1, df['Adj Close'], inplace=True)\n",
    "        df['signal_price'].mask(df[self.position]== 2, df['Adj Close'], inplace=True)\n",
    "        record = df[[self.position,'signal_price']].dropna()\n",
    "        record['rtn'] = 1\n",
    "        record['rtn'].mask(record[self.position]== 2, (record['signal_price']*(1-cost))/record['signal_price'].shift(1), inplace=True)\n",
    "        record['acc_rtn'] = record['rtn'].cumprod()\n",
    "\n",
    "        df['signal_price'].mask(df[self.position]== 0, df['Adj Close'], inplace=True)\n",
    "        df['rtn'] = record['rtn']\n",
    "        df['rtn'].fillna(1, inplace=True)\n",
    "\n",
    "        df['daily_rtn'] = 1\n",
    "        df['daily_rtn'].mask(df[self.position] == 0, df['signal_price'] / df['signal_price'].shift(1), inplace=True)\n",
    "        df['daily_rtn'].mask(df[self.position] == 2, (df['signal_price']*(1-cost)) / df['signal_price'].shift(1), inplace=True)\n",
    "        df['daily_rtn'].fillna(1, inplace=True)\n",
    "        df['acc_rtn'] = df['daily_rtn'].cumprod()\n",
    "        df['acc_rtn_dp'] = ((df['acc_rtn']-1)*100).round(2)\n",
    "        df['mdd'] = (df['acc_rtn'] / df['acc_rtn'].cummax()).round(4)\n",
    "        df['bm_mdd'] = (df['Adj Close'] / df['Adj Close'].cummax()).round(4)\n",
    "        df.drop(columns='signal_price', inplace=True)\n",
    "        return df\n",
    "\n",
    "\n",
    "    def performance(self, df, rf_rate=.01):\n",
    "        '''\n",
    "        Calculate additional information of portfolio\n",
    "        :param df: The dataframe with daily returns\n",
    "        :param rf_rate: Risk free interest rate\n",
    "        :return: Number of trades, Number of wins, Hit ratio, Sharpe ratio, ...\n",
    "        '''\n",
    "\n",
    "        rst = {}\n",
    "        rst['no_trades'] = (df[self.position]==1).sum()\n",
    "        rst['no_win'] = (df['rtn']>1).sum()\n",
    "        rst['acc_rtn'] = df['acc_rtn'][-1:].round(4)\n",
    "        rst['hit_ratio'] = round((df['rtn']>1.0).sum() / rst['no_trades'], 4) if rst['no_trades']>0 else 0\n",
    "        rst['avg_rtn'] = round(df[df['rtn']!=1.0]['rtn'].mean(), 4)\n",
    "        rst['period'] = self.__get_period(df)\n",
    "        rst['annual_rtn'] = self.__annualize(rst['acc_rtn'], rst['period'])\n",
    "        rst['bm_rtn'] = round(df.iloc[-1,5]/df.iloc[0,5], 4)\n",
    "        rst['sharpe_ratio'] = self.__get_sharpe_ratio(df, rf_rate)\n",
    "        rst['mdd'] = df['mdd'].min()\n",
    "        rst['bm_mdd'] = df['bm_mdd'].min()\n",
    "        if self.result_show ==True:\n",
    "            print('CAGR: ',round(rst['annual_rtn'].values[0] - 1,5))                       # 연간 수익\n",
    "            print('Accumulated return:',round(rst['acc_rtn'].values[0] - 1,5))         # \n",
    "            print('Average return: ',round(rst['avg_rtn'] - 1,5))\n",
    "            print('Benchmark return :',round(rst['bm_rtn']-1,5))\n",
    "            print('Number of trades: ',(rst['no_trades']))\n",
    "            print('Number of win:',(rst['no_win']))\n",
    "            print('Hit ratio:',(rst['hit_ratio']))\n",
    "            print('Investment period:',(rst['period']/365),'yrs')\n",
    "            print('Sharpe ratio:',(rst['sharpe_ratio']))\n",
    "\n",
    "            print('MDD:',(rst['mdd']-1)*100)\n",
    "            print('Benchmark MDD:',(rst['bm_mdd']-1)*100)\n",
    "            self.res = {'CAGR':(rst['annual_rtn'].values[0] - 1)*100,'Accumulated return':(rst['acc_rtn'].values[0] - 1)*100,'Average return': (rst['avg_rtn'] - 1)*100,'MDD':(rst['mdd']-1)*100}\n",
    "        else:\n",
    "            self.res = {'CAGR':(rst['annual_rtn'].values[0] - 1)*100,'Accumulated return':(rst['acc_rtn'].values[0] - 1)*100,'Average return': (rst['avg_rtn'] - 1)*100,'MDD':(rst['mdd']-1)*100}\n",
    "            print('백테스팅 성공')"
   ]
  },
  {
   "cell_type": "code",
   "execution_count": 31,
   "metadata": {
    "colab": {
     "base_uri": "https://localhost:8080/"
    },
    "executionInfo": {
     "elapsed": 19,
     "status": "ok",
     "timestamp": 1668420608891,
     "user": {
      "displayName": "신진명",
      "userId": "13294197785714083129"
     },
     "user_tz": -540
    },
    "id": "YaP9jP1RaDmO",
    "outputId": "d1ee6e87-dd2c-4a17-add3-f7addde496aa"
   },
   "outputs": [
    {
     "data": {
      "text/plain": [
       "27"
      ]
     },
     "execution_count": 31,
     "metadata": {},
     "output_type": "execute_result"
    }
   ],
   "source": [
    "len(pp_LSTM)"
   ]
  },
  {
   "cell_type": "code",
   "execution_count": 32,
   "metadata": {
    "executionInfo": {
     "elapsed": 17,
     "status": "ok",
     "timestamp": 1668420608891,
     "user": {
      "displayName": "신진명",
      "userId": "13294197785714083129"
     },
     "user_tz": -540
    },
    "id": "e0PP-GzeaDmO"
   },
   "outputs": [],
   "source": [
    "data_LSTM = pd.DataFrame({\"actual\":data.iloc[int(len(data) - len(pp_LSTM)):][\"position\"], \"position\":pp_LSTM})"
   ]
  },
  {
   "cell_type": "code",
   "execution_count": 33,
   "metadata": {
    "executionInfo": {
     "elapsed": 11,
     "status": "ok",
     "timestamp": 1668420608892,
     "user": {
      "displayName": "신진명",
      "userId": "13294197785714083129"
     },
     "user_tz": -540
    },
    "id": "i1q7xVR_aDmO"
   },
   "outputs": [],
   "source": [
    "data_LSTM[\"Adj Close\"] = data3[\"Adj Close\"][int(len(data)) - len(pp_LSTM):]"
   ]
  },
  {
   "cell_type": "code",
   "execution_count": 34,
   "metadata": {
    "executionInfo": {
     "elapsed": 10,
     "status": "ok",
     "timestamp": 1668420608892,
     "user": {
      "displayName": "신진명",
      "userId": "13294197785714083129"
     },
     "user_tz": -540
    },
    "id": "D70bUn_7aDmO"
   },
   "outputs": [],
   "source": [
    "data_LSTM.reset_index(inplace=True)"
   ]
  },
  {
   "cell_type": "code",
   "execution_count": 35,
   "metadata": {},
   "outputs": [
    {
     "data": {
      "text/html": [
       "<div>\n",
       "<style scoped>\n",
       "    .dataframe tbody tr th:only-of-type {\n",
       "        vertical-align: middle;\n",
       "    }\n",
       "\n",
       "    .dataframe tbody tr th {\n",
       "        vertical-align: top;\n",
       "    }\n",
       "\n",
       "    .dataframe thead th {\n",
       "        text-align: right;\n",
       "    }\n",
       "</style>\n",
       "<table border=\"1\" class=\"dataframe\">\n",
       "  <thead>\n",
       "    <tr style=\"text-align: right;\">\n",
       "      <th></th>\n",
       "      <th>Datetime</th>\n",
       "      <th>actual</th>\n",
       "      <th>position</th>\n",
       "      <th>Adj Close</th>\n",
       "    </tr>\n",
       "  </thead>\n",
       "  <tbody>\n",
       "    <tr>\n",
       "      <th>0</th>\n",
       "      <td>2022-10-06</td>\n",
       "      <td>2</td>\n",
       "      <td>2</td>\n",
       "      <td>145.189148</td>\n",
       "    </tr>\n",
       "    <tr>\n",
       "      <th>1</th>\n",
       "      <td>2022-10-07</td>\n",
       "      <td>2</td>\n",
       "      <td>0</td>\n",
       "      <td>139.857986</td>\n",
       "    </tr>\n",
       "    <tr>\n",
       "      <th>2</th>\n",
       "      <td>2022-10-11</td>\n",
       "      <td>2</td>\n",
       "      <td>2</td>\n",
       "      <td>138.749832</td>\n",
       "    </tr>\n",
       "    <tr>\n",
       "      <th>3</th>\n",
       "      <td>2022-10-12</td>\n",
       "      <td>0</td>\n",
       "      <td>2</td>\n",
       "      <td>138.110886</td>\n",
       "    </tr>\n",
       "    <tr>\n",
       "      <th>4</th>\n",
       "      <td>2022-10-13</td>\n",
       "      <td>2</td>\n",
       "      <td>2</td>\n",
       "      <td>142.753204</td>\n",
       "    </tr>\n",
       "    <tr>\n",
       "      <th>5</th>\n",
       "      <td>2022-10-14</td>\n",
       "      <td>2</td>\n",
       "      <td>2</td>\n",
       "      <td>138.150833</td>\n",
       "    </tr>\n",
       "    <tr>\n",
       "      <th>6</th>\n",
       "      <td>2022-10-17</td>\n",
       "      <td>1</td>\n",
       "      <td>2</td>\n",
       "      <td>142.174164</td>\n",
       "    </tr>\n",
       "    <tr>\n",
       "      <th>7</th>\n",
       "      <td>2022-10-18</td>\n",
       "      <td>1</td>\n",
       "      <td>2</td>\n",
       "      <td>143.511932</td>\n",
       "    </tr>\n",
       "    <tr>\n",
       "      <th>8</th>\n",
       "      <td>2022-10-19</td>\n",
       "      <td>0</td>\n",
       "      <td>1</td>\n",
       "      <td>143.621750</td>\n",
       "    </tr>\n",
       "    <tr>\n",
       "      <th>9</th>\n",
       "      <td>2022-10-20</td>\n",
       "      <td>1</td>\n",
       "      <td>1</td>\n",
       "      <td>143.152527</td>\n",
       "    </tr>\n",
       "    <tr>\n",
       "      <th>10</th>\n",
       "      <td>2022-10-21</td>\n",
       "      <td>1</td>\n",
       "      <td>1</td>\n",
       "      <td>147.026108</td>\n",
       "    </tr>\n",
       "    <tr>\n",
       "      <th>11</th>\n",
       "      <td>2022-10-24</td>\n",
       "      <td>1</td>\n",
       "      <td>1</td>\n",
       "      <td>149.202484</td>\n",
       "    </tr>\n",
       "    <tr>\n",
       "      <th>12</th>\n",
       "      <td>2022-10-25</td>\n",
       "      <td>0</td>\n",
       "      <td>1</td>\n",
       "      <td>152.087708</td>\n",
       "    </tr>\n",
       "    <tr>\n",
       "      <th>13</th>\n",
       "      <td>2022-10-26</td>\n",
       "      <td>1</td>\n",
       "      <td>1</td>\n",
       "      <td>149.102661</td>\n",
       "    </tr>\n",
       "    <tr>\n",
       "      <th>14</th>\n",
       "      <td>2022-10-27</td>\n",
       "      <td>1</td>\n",
       "      <td>1</td>\n",
       "      <td>144.560196</td>\n",
       "    </tr>\n",
       "    <tr>\n",
       "      <th>15</th>\n",
       "      <td>2022-10-28</td>\n",
       "      <td>1</td>\n",
       "      <td>1</td>\n",
       "      <td>155.482086</td>\n",
       "    </tr>\n",
       "    <tr>\n",
       "      <th>16</th>\n",
       "      <td>2022-10-31</td>\n",
       "      <td>1</td>\n",
       "      <td>1</td>\n",
       "      <td>153.086044</td>\n",
       "    </tr>\n",
       "    <tr>\n",
       "      <th>17</th>\n",
       "      <td>2022-11-01</td>\n",
       "      <td>0</td>\n",
       "      <td>1</td>\n",
       "      <td>150.400497</td>\n",
       "    </tr>\n",
       "    <tr>\n",
       "      <th>18</th>\n",
       "      <td>2022-11-02</td>\n",
       "      <td>1</td>\n",
       "      <td>1</td>\n",
       "      <td>144.789810</td>\n",
       "    </tr>\n",
       "    <tr>\n",
       "      <th>19</th>\n",
       "      <td>2022-11-03</td>\n",
       "      <td>1</td>\n",
       "      <td>1</td>\n",
       "      <td>138.650009</td>\n",
       "    </tr>\n",
       "    <tr>\n",
       "      <th>20</th>\n",
       "      <td>2022-11-04</td>\n",
       "      <td>0</td>\n",
       "      <td>1</td>\n",
       "      <td>138.380005</td>\n",
       "    </tr>\n",
       "    <tr>\n",
       "      <th>21</th>\n",
       "      <td>2022-11-07</td>\n",
       "      <td>2</td>\n",
       "      <td>1</td>\n",
       "      <td>138.919998</td>\n",
       "    </tr>\n",
       "    <tr>\n",
       "      <th>22</th>\n",
       "      <td>2022-11-08</td>\n",
       "      <td>2</td>\n",
       "      <td>2</td>\n",
       "      <td>139.500000</td>\n",
       "    </tr>\n",
       "    <tr>\n",
       "      <th>23</th>\n",
       "      <td>2022-11-09</td>\n",
       "      <td>0</td>\n",
       "      <td>2</td>\n",
       "      <td>134.869995</td>\n",
       "    </tr>\n",
       "    <tr>\n",
       "      <th>24</th>\n",
       "      <td>2022-11-10</td>\n",
       "      <td>0</td>\n",
       "      <td>2</td>\n",
       "      <td>146.869995</td>\n",
       "    </tr>\n",
       "    <tr>\n",
       "      <th>25</th>\n",
       "      <td>2022-11-14</td>\n",
       "      <td>1</td>\n",
       "      <td>2</td>\n",
       "      <td>148.279999</td>\n",
       "    </tr>\n",
       "    <tr>\n",
       "      <th>26</th>\n",
       "      <td>2022-11-15</td>\n",
       "      <td>1</td>\n",
       "      <td>2</td>\n",
       "      <td>150.039993</td>\n",
       "    </tr>\n",
       "  </tbody>\n",
       "</table>\n",
       "</div>"
      ],
      "text/plain": [
       "     Datetime  actual  position   Adj Close\n",
       "0  2022-10-06       2         2  145.189148\n",
       "1  2022-10-07       2         0  139.857986\n",
       "2  2022-10-11       2         2  138.749832\n",
       "3  2022-10-12       0         2  138.110886\n",
       "4  2022-10-13       2         2  142.753204\n",
       "5  2022-10-14       2         2  138.150833\n",
       "6  2022-10-17       1         2  142.174164\n",
       "7  2022-10-18       1         2  143.511932\n",
       "8  2022-10-19       0         1  143.621750\n",
       "9  2022-10-20       1         1  143.152527\n",
       "10 2022-10-21       1         1  147.026108\n",
       "11 2022-10-24       1         1  149.202484\n",
       "12 2022-10-25       0         1  152.087708\n",
       "13 2022-10-26       1         1  149.102661\n",
       "14 2022-10-27       1         1  144.560196\n",
       "15 2022-10-28       1         1  155.482086\n",
       "16 2022-10-31       1         1  153.086044\n",
       "17 2022-11-01       0         1  150.400497\n",
       "18 2022-11-02       1         1  144.789810\n",
       "19 2022-11-03       1         1  138.650009\n",
       "20 2022-11-04       0         1  138.380005\n",
       "21 2022-11-07       2         1  138.919998\n",
       "22 2022-11-08       2         2  139.500000\n",
       "23 2022-11-09       0         2  134.869995\n",
       "24 2022-11-10       0         2  146.869995\n",
       "25 2022-11-14       1         2  148.279999\n",
       "26 2022-11-15       1         2  150.039993"
      ]
     },
     "execution_count": 35,
     "metadata": {},
     "output_type": "execute_result"
    }
   ],
   "source": [
    "data_LSTM"
   ]
  },
  {
   "cell_type": "code",
   "execution_count": 36,
   "metadata": {},
   "outputs": [
    {
     "data": {
      "text/plain": [
       "Text(0.5, 1.0, 'Price')"
      ]
     },
     "execution_count": 36,
     "metadata": {},
     "output_type": "execute_result"
    },
    {
     "data": {
      "image/png": "[encoded data removed]",
      "text/plain": [
       "<Figure size 1080x576 with 1 Axes>"
      ]
     },
     "metadata": {
      "needs_background": "light"
     },
     "output_type": "display_data"
    }
   ],
   "source": [
    "dummy_df = data_LSTM\n",
    "# 그림 사이즈 설정\n",
    "plt.figure(figsize=( 15,8))\n",
    "\n",
    "# 종가 기준으로 차트를 그림\n",
    "data_LSTM['Adj Close'].plot(grid=True)\n",
    "\n",
    "# position이 1 인경우 초록색으로 해당 종가에 표시\n",
    "plt.scatter(dummy_df.loc[data_LSTM.position == 1].index, dummy_df['Adj Close'][dummy_df.position == 1],\n",
    "            color='green', \n",
    "            label='Buy', \n",
    "            marker = '^', \n",
    "            alpha=1)\n",
    "\n",
    "# position이 -1 인경우 빨간색으로 해당 종가에 표시\n",
    "plt.scatter(dummy_df.loc[dummy_df.position == 2].index, dummy_df['Adj Close'][dummy_df.position == 2],\n",
    "            color='red', \n",
    "            label='Sell', \n",
    "            marker = '^', \n",
    "            alpha=1)\n",
    "\n",
    "# # trend이 1 인경우 초록색으로 해당 종가에 표시\n",
    "# plt.scatter(dummy_df.loc[df.trend == 1].index, dummy_df['Adj Close'][dummy_df.trend == 1],\n",
    "#             color='pink', \n",
    "#             label='up', \n",
    "#             marker = 'o', \n",
    "#             alpha=0.5)\n",
    "\n",
    "# # position이 -1 인경우 빨간색으로 해당 종가에 표시\n",
    "# plt.scatter(dummy_df.loc[dummy_df.trend == 0].index, dummy_df['Adj Close'][dummy_df.trend == 0],\n",
    "#             color='blue', \n",
    "#             label='down', \n",
    "#             marker = 'o', \n",
    "#             alpha=0.5)\n",
    "\n",
    "\n",
    "plt.ylabel('Price ($)')\n",
    "plt.xlabel('Date')\n",
    "plt.title('Price')"
   ]
  },
  {
   "cell_type": "code",
   "execution_count": 37,
   "metadata": {
    "colab": {
     "base_uri": "https://localhost:8080/"
    },
    "executionInfo": {
     "elapsed": 10,
     "status": "ok",
     "timestamp": 1668420608892,
     "user": {
      "displayName": "신진명",
      "userId": "13294197785714083129"
     },
     "user_tz": -540
    },
    "id": "-yKaxCcBbNJ-",
    "outputId": "0293d5fa-018e-423c-afb5-86499ec61c7f"
   },
   "outputs": [
    {
     "name": "stdout",
     "output_type": "stream",
     "text": [
      "CAGR:  0.5101\n",
      "Accumulated return: 0.0559\n",
      "Average return:  0.0056\n",
      "Benchmark return : 0.0109\n",
      "Number of trades:  14\n",
      "Number of win: 7\n",
      "Hit ratio: 0.5\n",
      "Investment period: 0.1095890410958904 yrs\n",
      "Sharpe ratio: 26    1.151\n",
      "Name: acc_rtn, dtype: float64\n",
      "MDD: -5.230000000000001\n",
      "Benchmark MDD: -13.260000000000005\n"
     ]
    }
   ],
   "source": [
    "back_LSTM = backtest(data_LSTM,'position',True)"
   ]
  },
  {
   "cell_type": "code",
   "execution_count": 38,
   "metadata": {},
   "outputs": [
    {
     "ename": "NameError",
     "evalue": "name 'dddddddddddd' is not defined",
     "output_type": "error",
     "traceback": [
      "\u001b[1;31m---------------------------------------------------------------------------\u001b[0m",
      "\u001b[1;31mNameError\u001b[0m                                 Traceback (most recent call last)",
      "\u001b[1;32mc:\\Users\\User\\PycharmProjects\\pythonProject\\venv\\Final\\Basic_LSTM_return114일 copy.ipynb 셀 40\u001b[0m in \u001b[0;36m<cell line: 1>\u001b[1;34m()\u001b[0m\n\u001b[1;32m----> <a href='vscode-notebook-cell:/c%3A/Users/User/PycharmProjects/pythonProject/venv/Final/Basic_LSTM_return114%EC%9D%BC%20copy.ipynb#X56sZmlsZQ%3D%3D?line=0'>1</a>\u001b[0m dddddddddddd\n",
      "\u001b[1;31mNameError\u001b[0m: name 'dddddddddddd' is not defined"
     ]
    }
   ],
   "source": [
    "dddddddddddd"
   ]
  },
  {
   "cell_type": "markdown",
   "metadata": {},
   "source": [
    "## GRU"
   ]
  },
  {
   "cell_type": "code",
   "execution_count": null,
   "metadata": {},
   "outputs": [],
   "source": [
    "model_path = f'./model_2021/GRU.h5'\n",
    "checkpoint = ModelCheckpoint(filepath=model_path ,\n",
    "                             monitor='val_accuracy',   # val_loss 값이 개선되었을때 호출됩니다\n",
    "                             verbose=1,            # 로그를 출력합니다\n",
    "                             save_best_only=True,  # 가장 best 값만 저장합니다\n",
    "                             mode='auto'           # auto는 알아서 best를 찾습니다. min/max\n",
    "                            )\n",
    "\n",
    "early_stopping = EarlyStopping(monitor='val_accuracy',  # 모니터 기준 설정 (val loss) \n",
    "                              patience=20,         # 10회 Epoch동안 개선되지 않는다면 종료\n",
    "                             )"
   ]
  },
  {
   "cell_type": "code",
   "execution_count": null,
   "metadata": {},
   "outputs": [
    {
     "name": "stdout",
     "output_type": "stream",
     "text": [
      "Model: \"sequential_1\"\n",
      "_________________________________________________________________\n",
      " Layer (type)                Output Shape              Param #   \n",
      "=================================================================\n",
      " gru (GRU)                   (None, 64)                17664     \n",
      "                                                                 \n",
      " dense_1 (Dense)             (None, 128)               8320      \n",
      "                                                                 \n",
      " dropout_2 (Dropout)         (None, 128)               0         \n",
      "                                                                 \n",
      " dense_2 (Dense)             (None, 64)                8256      \n",
      "                                                                 \n",
      " dropout_3 (Dropout)         (None, 64)                0         \n",
      "                                                                 \n",
      " dense_3 (Dense)             (None, 32)                2080      \n",
      "                                                                 \n",
      " dropout_4 (Dropout)         (None, 32)                0         \n",
      "                                                                 \n",
      " dense_4 (Dense)             (None, 3)                 99        \n",
      "                                                                 \n",
      "=================================================================\n",
      "Total params: 36,419\n",
      "Trainable params: 36,419\n",
      "Non-trainable params: 0\n",
      "_________________________________________________________________\n"
     ]
    }
   ],
   "source": [
    "with tf.device(\"/gpu:0\"):\n",
    "    model_GRU = Sequential()\n",
    "    model_GRU.add(GRU(64, input_shape=(X_train.shape[1], X_train.shape[2])))\n",
    "    model_GRU.add(Dense(128))\n",
    "    model_GRU.add(Dropout(0.2))\n",
    "    model_GRU.add(Dense(64))\n",
    "    model_GRU.add(Dropout(0.2))\n",
    "    model_GRU.add(Dense(32))\n",
    "    model_GRU.add(Dropout(0.2))\n",
    "    model_GRU.add(Dense(units = 3 ,  activation='softmax'))\n",
    "\n",
    "    adam = optimizers.Adam(lr = 0.001)\n",
    "\n",
    "    model_GRU.compile(optimizer='adam', loss='sparse_categorical_crossentropy', metrics=['accuracy'])\n",
    "\n",
    "    model_GRU.summary()"
   ]
  },
  {
   "cell_type": "code",
   "execution_count": null,
   "metadata": {},
   "outputs": [
    {
     "name": "stdout",
     "output_type": "stream",
     "text": [
      "Epoch 1/100\n",
      "316/321 [============================>.] - ETA: 0s - loss: 0.8912 - accuracy: 0.5644\n",
      "Epoch 1: val_accuracy improved from -inf to 0.61538, saving model to ./model_2021\\GRU.h5\n",
      "321/321 [==============================] - 3s 5ms/step - loss: 0.8935 - accuracy: 0.5633 - val_loss: 0.7934 - val_accuracy: 0.6154\n",
      "Epoch 2/100\n",
      "315/321 [============================>.] - ETA: 0s - loss: 0.8438 - accuracy: 0.5959\n",
      "Epoch 2: val_accuracy did not improve from 0.61538\n",
      "321/321 [==============================] - 1s 4ms/step - loss: 0.8455 - accuracy: 0.5950 - val_loss: 0.8535 - val_accuracy: 0.6154\n",
      "Epoch 3/100\n",
      "315/321 [============================>.] - ETA: 0s - loss: 0.8421 - accuracy: 0.5948\n",
      "Epoch 3: val_accuracy did not improve from 0.61538\n",
      "321/321 [==============================] - 1s 4ms/step - loss: 0.8424 - accuracy: 0.5951 - val_loss: 0.9230 - val_accuracy: 0.6154\n",
      "Epoch 4/100\n",
      "316/321 [============================>.] - ETA: 0s - loss: 0.8373 - accuracy: 0.5975\n",
      "Epoch 4: val_accuracy did not improve from 0.61538\n",
      "321/321 [==============================] - 1s 4ms/step - loss: 0.8382 - accuracy: 0.5973 - val_loss: 0.7456 - val_accuracy: 0.6154\n",
      "Epoch 5/100\n",
      "318/321 [============================>.] - ETA: 0s - loss: 0.8367 - accuracy: 0.5983\n",
      "Epoch 5: val_accuracy did not improve from 0.61538\n",
      "321/321 [==============================] - 1s 5ms/step - loss: 0.8356 - accuracy: 0.5981 - val_loss: 0.9139 - val_accuracy: 0.6154\n",
      "Epoch 6/100\n",
      "316/321 [============================>.] - ETA: 0s - loss: 0.8340 - accuracy: 0.6028\n",
      "Epoch 6: val_accuracy did not improve from 0.61538\n",
      "321/321 [==============================] - 2s 6ms/step - loss: 0.8318 - accuracy: 0.6039 - val_loss: 0.9393 - val_accuracy: 0.6154\n",
      "Epoch 7/100\n",
      "310/321 [===========================>..] - ETA: 0s - loss: 0.8329 - accuracy: 0.6024\n",
      "Epoch 7: val_accuracy improved from 0.61538 to 0.69231, saving model to ./model_2021\\GRU.h5\n",
      "321/321 [==============================] - 2s 5ms/step - loss: 0.8325 - accuracy: 0.6023 - val_loss: 1.0737 - val_accuracy: 0.6923\n",
      "Epoch 8/100\n",
      "317/321 [============================>.] - ETA: 0s - loss: 0.8348 - accuracy: 0.5978\n",
      "Epoch 8: val_accuracy did not improve from 0.69231\n",
      "321/321 [==============================] - 1s 4ms/step - loss: 0.8350 - accuracy: 0.5978 - val_loss: 0.8399 - val_accuracy: 0.6154\n",
      "Epoch 9/100\n",
      "321/321 [==============================] - ETA: 0s - loss: 0.8239 - accuracy: 0.6053\n",
      "Epoch 9: val_accuracy did not improve from 0.69231\n",
      "321/321 [==============================] - 1s 4ms/step - loss: 0.8239 - accuracy: 0.6053 - val_loss: 0.8325 - val_accuracy: 0.6154\n",
      "Epoch 10/100\n",
      "318/321 [============================>.] - ETA: 0s - loss: 0.8299 - accuracy: 0.6046\n",
      "Epoch 10: val_accuracy did not improve from 0.69231\n",
      "321/321 [==============================] - 1s 4ms/step - loss: 0.8297 - accuracy: 0.6050 - val_loss: 0.8385 - val_accuracy: 0.6154\n",
      "Epoch 11/100\n",
      "315/321 [============================>.] - ETA: 0s - loss: 0.8266 - accuracy: 0.6060\n",
      "Epoch 11: val_accuracy did not improve from 0.69231\n",
      "321/321 [==============================] - 1s 4ms/step - loss: 0.8262 - accuracy: 0.6062 - val_loss: 0.8050 - val_accuracy: 0.6154\n",
      "Epoch 12/100\n",
      "314/321 [============================>.] - ETA: 0s - loss: 0.8193 - accuracy: 0.6003\n",
      "Epoch 12: val_accuracy did not improve from 0.69231\n",
      "321/321 [==============================] - 2s 5ms/step - loss: 0.8209 - accuracy: 0.5995 - val_loss: 0.7769 - val_accuracy: 0.6154\n",
      "Epoch 13/100\n",
      "318/321 [============================>.] - ETA: 0s - loss: 0.8179 - accuracy: 0.6066\n",
      "Epoch 13: val_accuracy did not improve from 0.69231\n",
      "321/321 [==============================] - 1s 4ms/step - loss: 0.8184 - accuracy: 0.6064 - val_loss: 0.8160 - val_accuracy: 0.6154\n",
      "Epoch 14/100\n",
      "312/321 [============================>.] - ETA: 0s - loss: 0.8122 - accuracy: 0.6043\n",
      "Epoch 14: val_accuracy did not improve from 0.69231\n",
      "321/321 [==============================] - 1s 4ms/step - loss: 0.8128 - accuracy: 0.6047 - val_loss: 0.7527 - val_accuracy: 0.6923\n",
      "Epoch 15/100\n",
      "317/321 [============================>.] - ETA: 0s - loss: 0.8158 - accuracy: 0.6035\n",
      "Epoch 15: val_accuracy did not improve from 0.69231\n",
      "321/321 [==============================] - 1s 4ms/step - loss: 0.8158 - accuracy: 0.6036 - val_loss: 0.7558 - val_accuracy: 0.6154\n",
      "Epoch 16/100\n",
      "317/321 [============================>.] - ETA: 0s - loss: 0.8107 - accuracy: 0.6049\n",
      "Epoch 16: val_accuracy did not improve from 0.69231\n",
      "321/321 [==============================] - 1s 5ms/step - loss: 0.8103 - accuracy: 0.6048 - val_loss: 0.8645 - val_accuracy: 0.6923\n",
      "Epoch 17/100\n",
      "319/321 [============================>.] - ETA: 0s - loss: 0.8088 - accuracy: 0.6066\n",
      "Epoch 17: val_accuracy did not improve from 0.69231\n",
      "321/321 [==============================] - 1s 4ms/step - loss: 0.8081 - accuracy: 0.6070 - val_loss: 0.7886 - val_accuracy: 0.6154\n",
      "Epoch 18/100\n",
      "314/321 [============================>.] - ETA: 0s - loss: 0.8016 - accuracy: 0.6115\n",
      "Epoch 18: val_accuracy did not improve from 0.69231\n",
      "321/321 [==============================] - 1s 4ms/step - loss: 0.8026 - accuracy: 0.6107 - val_loss: 0.8714 - val_accuracy: 0.6923\n",
      "Epoch 19/100\n",
      "312/321 [============================>.] - ETA: 0s - loss: 0.8017 - accuracy: 0.6120\n",
      "Epoch 19: val_accuracy did not improve from 0.69231\n",
      "321/321 [==============================] - 1s 4ms/step - loss: 0.8018 - accuracy: 0.6112 - val_loss: 0.8563 - val_accuracy: 0.6154\n",
      "Epoch 20/100\n",
      "128/321 [==========>...................] - ETA: 0s - loss: 0.7984 - accuracy: 0.6059"
     ]
    },
    {
     "ename": "KeyboardInterrupt",
     "evalue": "",
     "output_type": "error",
     "traceback": [
      "\u001b[1;31m---------------------------------------------------------------------------\u001b[0m",
      "\u001b[1;31mKeyboardInterrupt\u001b[0m                         Traceback (most recent call last)",
      "\u001b[1;32mc:\\Users\\User\\PycharmProjects\\pythonProject\\venv\\Final\\Basic_LSTM_return114일.ipynb 셀 43\u001b[0m in \u001b[0;36m<cell line: 1>\u001b[1;34m()\u001b[0m\n\u001b[1;32m----> <a href='vscode-notebook-cell:/c%3A/Users/User/PycharmProjects/pythonProject/venv/Final/Basic_LSTM_return114%EC%9D%BC.ipynb#Y131sZmlsZQ%3D%3D?line=0'>1</a>\u001b[0m hist_GRU \u001b[39m=\u001b[39m model_GRU\u001b[39m.\u001b[39;49mfit(X_train, y_train\n\u001b[0;32m      <a href='vscode-notebook-cell:/c%3A/Users/User/PycharmProjects/pythonProject/venv/Final/Basic_LSTM_return114%EC%9D%BC.ipynb#Y131sZmlsZQ%3D%3D?line=1'>2</a>\u001b[0m                   , batch_size\u001b[39m=\u001b[39;49m BATCH\n\u001b[0;32m      <a href='vscode-notebook-cell:/c%3A/Users/User/PycharmProjects/pythonProject/venv/Final/Basic_LSTM_return114%EC%9D%BC.ipynb#Y131sZmlsZQ%3D%3D?line=2'>3</a>\u001b[0m                   , epochs\u001b[39m=\u001b[39;49m EPOCH \u001b[39m# \u001b[39;49;00m\n\u001b[0;32m      <a href='vscode-notebook-cell:/c%3A/Users/User/PycharmProjects/pythonProject/venv/Final/Basic_LSTM_return114%EC%9D%BC.ipynb#Y131sZmlsZQ%3D%3D?line=3'>4</a>\u001b[0m                   , validation_data\u001b[39m=\u001b[39;49m(X_test, y_test)\n\u001b[0;32m      <a href='vscode-notebook-cell:/c%3A/Users/User/PycharmProjects/pythonProject/venv/Final/Basic_LSTM_return114%EC%9D%BC.ipynb#Y131sZmlsZQ%3D%3D?line=4'>5</a>\u001b[0m                   , callbacks\u001b[39m=\u001b[39;49m [checkpoint,early_stopping]\n\u001b[0;32m      <a href='vscode-notebook-cell:/c%3A/Users/User/PycharmProjects/pythonProject/venv/Final/Basic_LSTM_return114%EC%9D%BC.ipynb#Y131sZmlsZQ%3D%3D?line=5'>6</a>\u001b[0m                  )\n\u001b[0;32m      <a href='vscode-notebook-cell:/c%3A/Users/User/PycharmProjects/pythonProject/venv/Final/Basic_LSTM_return114%EC%9D%BC.ipynb#Y131sZmlsZQ%3D%3D?line=7'>8</a>\u001b[0m history_GRU \u001b[39m=\u001b[39m model_GRU\u001b[39m.\u001b[39mevaluate(X_test, y_test)\n",
      "File \u001b[1;32mc:\\Users\\User\\AppData\\Local\\Programs\\Python\\Python38\\lib\\site-packages\\keras\\utils\\traceback_utils.py:64\u001b[0m, in \u001b[0;36mfilter_traceback.<locals>.error_handler\u001b[1;34m(*args, **kwargs)\u001b[0m\n\u001b[0;32m     62\u001b[0m filtered_tb \u001b[39m=\u001b[39m \u001b[39mNone\u001b[39;00m\n\u001b[0;32m     63\u001b[0m \u001b[39mtry\u001b[39;00m:\n\u001b[1;32m---> 64\u001b[0m   \u001b[39mreturn\u001b[39;00m fn(\u001b[39m*\u001b[39;49margs, \u001b[39m*\u001b[39;49m\u001b[39m*\u001b[39;49mkwargs)\n\u001b[0;32m     65\u001b[0m \u001b[39mexcept\u001b[39;00m \u001b[39mException\u001b[39;00m \u001b[39mas\u001b[39;00m e:  \u001b[39m# pylint: disable=broad-except\u001b[39;00m\n\u001b[0;32m     66\u001b[0m   filtered_tb \u001b[39m=\u001b[39m _process_traceback_frames(e\u001b[39m.\u001b[39m__traceback__)\n",
      "File \u001b[1;32mc:\\Users\\User\\AppData\\Local\\Programs\\Python\\Python38\\lib\\site-packages\\keras\\engine\\training.py:1413\u001b[0m, in \u001b[0;36mModel.fit\u001b[1;34m(self, x, y, batch_size, epochs, verbose, callbacks, validation_split, validation_data, shuffle, class_weight, sample_weight, initial_epoch, steps_per_epoch, validation_steps, validation_batch_size, validation_freq, max_queue_size, workers, use_multiprocessing)\u001b[0m\n\u001b[0;32m   1411\u001b[0m   context\u001b[39m.\u001b[39masync_wait()\n\u001b[0;32m   1412\u001b[0m logs \u001b[39m=\u001b[39m tmp_logs  \u001b[39m# No error, now safe to assign to logs.\u001b[39;00m\n\u001b[1;32m-> 1413\u001b[0m end_step \u001b[39m=\u001b[39m step \u001b[39m+\u001b[39m data_handler\u001b[39m.\u001b[39;49mstep_increment\n\u001b[0;32m   1414\u001b[0m callbacks\u001b[39m.\u001b[39mon_train_batch_end(end_step, logs)\n\u001b[0;32m   1415\u001b[0m \u001b[39mif\u001b[39;00m \u001b[39mself\u001b[39m\u001b[39m.\u001b[39mstop_training:\n",
      "File \u001b[1;32mc:\\Users\\User\\AppData\\Local\\Programs\\Python\\Python38\\lib\\site-packages\\keras\\engine\\data_adapter.py:1268\u001b[0m, in \u001b[0;36mDataHandler.step_increment\u001b[1;34m(self)\u001b[0m\n\u001b[0;32m   1265\u001b[0m       \u001b[39mself\u001b[39m\u001b[39m.\u001b[39m_current_step \u001b[39m+\u001b[39m\u001b[39m=\u001b[39m steps_remaining\n\u001b[0;32m   1266\u001b[0m       \u001b[39mself\u001b[39m\u001b[39m.\u001b[39m_steps_per_execution\u001b[39m.\u001b[39massign(original_spe)\n\u001b[1;32m-> 1268\u001b[0m \u001b[39m@property\u001b[39m\n\u001b[0;32m   1269\u001b[0m \u001b[39mdef\u001b[39;00m \u001b[39mstep_increment\u001b[39m(\u001b[39mself\u001b[39m):\n\u001b[0;32m   1270\u001b[0m   \u001b[39m\"\"\"The number to increment the step for `on_batch_end` methods.\"\"\"\u001b[39;00m\n\u001b[0;32m   1271\u001b[0m   \u001b[39mreturn\u001b[39;00m \u001b[39mself\u001b[39m\u001b[39m.\u001b[39m_step_increment\n",
      "\u001b[1;31mKeyboardInterrupt\u001b[0m: "
     ]
    }
   ],
   "source": [
    "hist_GRU = model_GRU.fit(X_train, y_train\n",
    "                  , batch_size= BATCH\n",
    "                  , epochs= EPOCH # \n",
    "                  , validation_data=(X_test, y_test)\n",
    "                  , callbacks= [checkpoint,early_stopping]\n",
    "                 )\n",
    "\n",
    "history_GRU = model_GRU.evaluate(X_test, y_test)"
   ]
  },
  {
   "cell_type": "code",
   "execution_count": null,
   "metadata": {},
   "outputs": [],
   "source": [
    "# plt.style.use(\"grayscale\")\n",
    "# plt.figure(figsize=(20,10))\n",
    "# plt.plot(hist.history[\"loss\"], label=\"train_loss\", color='b', marker='o')\n",
    "# plt.plot(hist.history[\"val_loss\"], label=\"val_loss\", color='k', marker='o')\n",
    "# plt.plot(hist.history[\"accuracy\"], label=\"train_acc\", color='r', marker='o')\n",
    "# plt.plot(hist.history[\"val_accuracy\"], label=\"val_acc\", color='g', marker='o')\n",
    "# plt.title(\"Training Loss and Accuracy\")\n",
    "# plt.xlabel(\"Epoch\")\n",
    "# plt.ylabel(\"Loss/Accuracy\")\n",
    "# plt.legend(loc=\"upper right\")\n"
   ]
  },
  {
   "cell_type": "code",
   "execution_count": null,
   "metadata": {},
   "outputs": [
    {
     "name": "stdout",
     "output_type": "stream",
     "text": [
      "1/1 [==============================] - 0s 169ms/step\n",
      "[[0.1519912  0.8293946  0.01861423]\n",
      " [0.21174638 0.7691127  0.0191409 ]\n",
      " [0.3324717  0.60887194 0.05865636]\n",
      " [0.22334376 0.75324786 0.02340846]\n",
      " [0.28964615 0.66293794 0.04741592]\n",
      " [0.18838783 0.78851616 0.02309601]\n",
      " [0.30157954 0.66153425 0.03688621]\n",
      " [0.4350061  0.43988907 0.12510483]\n",
      " [0.10630266 0.00971708 0.8839802 ]\n",
      " [0.30548    0.0313188  0.6632012 ]\n",
      " [0.40621892 0.10327985 0.49050128]\n",
      " [0.1659947  0.03286507 0.80114025]\n",
      " [0.17017873 0.04461795 0.7852033 ]]\n"
     ]
    },
    {
     "data": {
      "text/plain": [
       "((13,), (13, 1))"
      ]
     },
     "execution_count": 38,
     "metadata": {},
     "output_type": "execute_result"
    }
   ],
   "source": [
    "pred_GRU = model_GRU.predict(X_test)\n",
    "print(pred_GRU)\n",
    "pp_GRU = np.argmax(pred_GRU, axis=-1)\n",
    "pp_GRU.shape, y_test.shape"
   ]
  },
  {
   "cell_type": "code",
   "execution_count": null,
   "metadata": {},
   "outputs": [
    {
     "data": {
      "text/plain": [
       "[0.7916654348373413, 0.6153846383094788]"
      ]
     },
     "execution_count": 39,
     "metadata": {},
     "output_type": "execute_result"
    }
   ],
   "source": [
    "history_GRU"
   ]
  },
  {
   "cell_type": "code",
   "execution_count": null,
   "metadata": {},
   "outputs": [
    {
     "name": "stdout",
     "output_type": "stream",
     "text": [
      "F1 score:0.4571\n"
     ]
    }
   ],
   "source": [
    "f1_GRU = f1_score(y_test, pp_GRU, average='macro')\n",
    "print(f\"F1 score:{f1_GRU:.4f}\")"
   ]
  },
  {
   "cell_type": "code",
   "execution_count": null,
   "metadata": {},
   "outputs": [
    {
     "name": "stdout",
     "output_type": "stream",
     "text": [
      "              precision    recall  f1-score   support\n",
      "\n",
      "     holding       0.00      0.00      0.00         4\n",
      "         buy       0.75      0.86      0.80         7\n",
      "        sell       0.40      1.00      0.57         2\n",
      "\n",
      "    accuracy                           0.62        13\n",
      "   macro avg       0.38      0.62      0.46        13\n",
      "weighted avg       0.47      0.62      0.52        13\n",
      "\n"
     ]
    }
   ],
   "source": [
    "print(classification_report( y_test, pp_GRU, target_names=['holding','buy', 'sell']))"
   ]
  },
  {
   "cell_type": "code",
   "execution_count": null,
   "metadata": {},
   "outputs": [
    {
     "name": "stdout",
     "output_type": "stream",
     "text": [
      "[[0 2 2]\n",
      " [0 6 1]\n",
      " [0 0 2]]\n"
     ]
    }
   ],
   "source": [
    "from sklearn.metrics import confusion_matrix\n",
    "res_GRU = confusion_matrix(y_test, pp_GRU)\n",
    "print(res_GRU)  "
   ]
  },
  {
   "cell_type": "code",
   "execution_count": null,
   "metadata": {
    "colab": {
     "base_uri": "https://localhost:8080/"
    },
    "executionInfo": {
     "elapsed": 19,
     "status": "ok",
     "timestamp": 1668420608891,
     "user": {
      "displayName": "신진명",
      "userId": "13294197785714083129"
     },
     "user_tz": -540
    },
    "id": "YaP9jP1RaDmO",
    "outputId": "d1ee6e87-dd2c-4a17-add3-f7addde496aa"
   },
   "outputs": [
    {
     "data": {
      "text/plain": [
       "13"
      ]
     },
     "execution_count": 43,
     "metadata": {},
     "output_type": "execute_result"
    }
   ],
   "source": [
    "len(pp_GRU)"
   ]
  },
  {
   "cell_type": "code",
   "execution_count": null,
   "metadata": {
    "executionInfo": {
     "elapsed": 17,
     "status": "ok",
     "timestamp": 1668420608891,
     "user": {
      "displayName": "신진명",
      "userId": "13294197785714083129"
     },
     "user_tz": -540
    },
    "id": "e0PP-GzeaDmO"
   },
   "outputs": [],
   "source": [
    "data_GRU = pd.DataFrame({\"actual\":data.iloc[int(len(data) - len(pp_GRU)):][\"position\"], \"position\":pp_GRU})"
   ]
  },
  {
   "cell_type": "code",
   "execution_count": null,
   "metadata": {
    "executionInfo": {
     "elapsed": 11,
     "status": "ok",
     "timestamp": 1668420608892,
     "user": {
      "displayName": "신진명",
      "userId": "13294197785714083129"
     },
     "user_tz": -540
    },
    "id": "i1q7xVR_aDmO"
   },
   "outputs": [],
   "source": [
    "data_GRU[\"Adj Close\"] = data3[\"Adj Close\"][int(len(data)) - len(pp_GRU):]"
   ]
  },
  {
   "cell_type": "code",
   "execution_count": null,
   "metadata": {
    "executionInfo": {
     "elapsed": 10,
     "status": "ok",
     "timestamp": 1668420608892,
     "user": {
      "displayName": "신진명",
      "userId": "13294197785714083129"
     },
     "user_tz": -540
    },
    "id": "D70bUn_7aDmO"
   },
   "outputs": [],
   "source": [
    "data_GRU.reset_index(inplace=True)"
   ]
  },
  {
   "cell_type": "code",
   "execution_count": null,
   "metadata": {
    "colab": {
     "base_uri": "https://localhost:8080/"
    },
    "executionInfo": {
     "elapsed": 10,
     "status": "ok",
     "timestamp": 1668420608892,
     "user": {
      "displayName": "신진명",
      "userId": "13294197785714083129"
     },
     "user_tz": -540
    },
    "id": "-yKaxCcBbNJ-",
    "outputId": "0293d5fa-018e-423c-afb5-86499ec61c7f"
   },
   "outputs": [
    {
     "name": "stdout",
     "output_type": "stream",
     "text": [
      "CAGR:  1.435\n",
      "Accumulated return: 0.0747\n",
      "Average return:  0.0153\n",
      "Benchmark return : 0.0109\n",
      "Number of trades:  8\n",
      "Number of win: 4\n",
      "Hit ratio: 0.5\n",
      "Investment period: 0.052054794520547946 yrs\n",
      "Sharpe ratio: 12    2.7775\n",
      "Name: acc_rtn, dtype: float64\n",
      "MDD: -3.420000000000001\n",
      "Benchmark MDD: -13.260000000000005\n"
     ]
    }
   ],
   "source": [
    "back_GRU = backtest(data_GRU,'position',True)"
   ]
  },
  {
   "cell_type": "markdown",
   "metadata": {},
   "source": [
    "## DNN"
   ]
  },
  {
   "cell_type": "code",
   "execution_count": null,
   "metadata": {},
   "outputs": [],
   "source": [
    "model_path = f'./model_2021/DNN.h5'\n",
    "checkpoint = ModelCheckpoint(filepath=model_path ,\n",
    "                             monitor='val_accuracy',   # val_loss 값이 개선되었을때 호출됩니다\n",
    "                             verbose=1,            # 로그를 출력합니다\n",
    "                             save_best_only=True,  # 가장 best 값만 저장합니다\n",
    "                             mode='auto'           # auto는 알아서 best를 찾습니다. min/max\n",
    "                            )\n",
    "\n",
    "early_stopping = EarlyStopping(monitor='val_accuracy',  # 모니터 기준 설정 (val loss) \n",
    "                              patience=20,         # 10회 Epoch동안 개선되지 않는다면 종료\n",
    "                             )"
   ]
  },
  {
   "cell_type": "code",
   "execution_count": null,
   "metadata": {},
   "outputs": [
    {
     "name": "stdout",
     "output_type": "stream",
     "text": [
      "Model: \"sequential_2\"\n",
      "_________________________________________________________________\n",
      " Layer (type)                Output Shape              Param #   \n",
      "=================================================================\n",
      " dense_5 (Dense)             (None, 20, 128)           3712      \n",
      "                                                                 \n",
      " dense_6 (Dense)             (None, 20, 256)           33024     \n",
      "                                                                 \n",
      " dropout_5 (Dropout)         (None, 20, 256)           0         \n",
      "                                                                 \n",
      " dense_7 (Dense)             (None, 20, 32)            8224      \n",
      "                                                                 \n",
      " dropout_6 (Dropout)         (None, 20, 32)            0         \n",
      "                                                                 \n",
      " flatten (Flatten)           (None, 640)               0         \n",
      "                                                                 \n",
      " dense_8 (Dense)             (None, 3)                 1923      \n",
      "                                                                 \n",
      "=================================================================\n",
      "Total params: 46,883\n",
      "Trainable params: 46,883\n",
      "Non-trainable params: 0\n",
      "_________________________________________________________________\n"
     ]
    }
   ],
   "source": [
    "with tf.device(\"/gpu:0\"):\n",
    "    model_DNN = Sequential()\n",
    "    model_DNN.add(Dense(128, input_shape=(X_train.shape[1], X_train.shape[2])))\n",
    "    model_DNN.add(Dense(256))\n",
    "    model_DNN.add(Dropout(0.2))\n",
    "    model_DNN.add(Dense(32))\n",
    "    model_DNN.add(Dropout(0.2))\n",
    "    model_DNN.add(Flatten())\n",
    "    model_DNN.add(Dense(units = 3 ,  activation='softmax'))\n",
    "\n",
    "    adam = optimizers.Adam(lr = 0.001)\n",
    "\n",
    "    model_DNN.compile(optimizer='adam', loss='sparse_categorical_crossentropy', metrics=['accuracy'])\n",
    "\n",
    "    model_DNN.summary()"
   ]
  },
  {
   "cell_type": "code",
   "execution_count": null,
   "metadata": {},
   "outputs": [
    {
     "name": "stdout",
     "output_type": "stream",
     "text": [
      "Epoch 1/100\n",
      "318/321 [============================>.] - ETA: 0s - loss: 0.9693 - accuracy: 0.5061\n",
      "Epoch 1: val_accuracy improved from -inf to 0.61538, saving model to ./model_2021\\DNN.h5\n",
      "321/321 [==============================] - 2s 4ms/step - loss: 0.9694 - accuracy: 0.5060 - val_loss: 0.9855 - val_accuracy: 0.6154\n",
      "Epoch 2/100\n",
      "313/321 [============================>.] - ETA: 0s - loss: 0.9066 - accuracy: 0.5503\n",
      "Epoch 2: val_accuracy improved from 0.61538 to 0.69231, saving model to ./model_2021\\DNN.h5\n",
      "321/321 [==============================] - 1s 4ms/step - loss: 0.9059 - accuracy: 0.5513 - val_loss: 0.9652 - val_accuracy: 0.6923\n",
      "Epoch 3/100\n",
      "316/321 [============================>.] - ETA: 0s - loss: 0.8952 - accuracy: 0.5585\n",
      "Epoch 3: val_accuracy did not improve from 0.69231\n",
      "321/321 [==============================] - 1s 4ms/step - loss: 0.8938 - accuracy: 0.5592 - val_loss: 1.2241 - val_accuracy: 0.6154\n",
      "Epoch 4/100\n",
      "312/321 [============================>.] - ETA: 0s - loss: 0.8948 - accuracy: 0.5635\n",
      "Epoch 4: val_accuracy did not improve from 0.69231\n",
      "321/321 [==============================] - 1s 4ms/step - loss: 0.8931 - accuracy: 0.5641 - val_loss: 0.9827 - val_accuracy: 0.5385\n",
      "Epoch 5/100\n",
      "309/321 [===========================>..] - ETA: 0s - loss: 0.8863 - accuracy: 0.5636\n",
      "Epoch 5: val_accuracy did not improve from 0.69231\n",
      "321/321 [==============================] - 1s 4ms/step - loss: 0.8874 - accuracy: 0.5616 - val_loss: 0.9772 - val_accuracy: 0.6923\n",
      "Epoch 6/100\n",
      "314/321 [============================>.] - ETA: 0s - loss: 0.8829 - accuracy: 0.5693\n",
      "Epoch 6: val_accuracy did not improve from 0.69231\n",
      "321/321 [==============================] - 1s 4ms/step - loss: 0.8825 - accuracy: 0.5691 - val_loss: 1.0270 - val_accuracy: 0.6154\n",
      "Epoch 7/100\n",
      "311/321 [============================>.] - ETA: 0s - loss: 0.8730 - accuracy: 0.5707\n",
      "Epoch 7: val_accuracy did not improve from 0.69231\n",
      "321/321 [==============================] - 1s 4ms/step - loss: 0.8759 - accuracy: 0.5691 - val_loss: 0.9334 - val_accuracy: 0.6923\n",
      "Epoch 8/100\n",
      "318/321 [============================>.] - ETA: 0s - loss: 0.8755 - accuracy: 0.5712\n",
      "Epoch 8: val_accuracy did not improve from 0.69231\n",
      "321/321 [==============================] - 1s 4ms/step - loss: 0.8750 - accuracy: 0.5719 - val_loss: 0.8780 - val_accuracy: 0.5385\n",
      "Epoch 9/100\n",
      "321/321 [==============================] - ETA: 0s - loss: 0.8750 - accuracy: 0.5661\n",
      "Epoch 9: val_accuracy did not improve from 0.69231\n",
      "321/321 [==============================] - 1s 3ms/step - loss: 0.8750 - accuracy: 0.5661 - val_loss: 0.9925 - val_accuracy: 0.6923\n",
      "Epoch 10/100\n",
      "309/321 [===========================>..] - ETA: 0s - loss: 0.8722 - accuracy: 0.5712\n",
      "Epoch 10: val_accuracy did not improve from 0.69231\n",
      "321/321 [==============================] - 1s 4ms/step - loss: 0.8724 - accuracy: 0.5727 - val_loss: 0.9871 - val_accuracy: 0.6923\n",
      "Epoch 11/100\n",
      "307/321 [===========================>..] - ETA: 0s - loss: 0.8761 - accuracy: 0.5695\n",
      "Epoch 11: val_accuracy did not improve from 0.69231\n",
      "321/321 [==============================] - 1s 3ms/step - loss: 0.8744 - accuracy: 0.5714 - val_loss: 0.9763 - val_accuracy: 0.6923\n",
      "Epoch 12/100\n",
      "317/321 [============================>.] - ETA: 0s - loss: 0.8768 - accuracy: 0.5674\n",
      "Epoch 12: val_accuracy did not improve from 0.69231\n",
      "321/321 [==============================] - 1s 4ms/step - loss: 0.8753 - accuracy: 0.5681 - val_loss: 0.9694 - val_accuracy: 0.6923\n",
      "Epoch 13/100\n",
      "317/321 [============================>.] - ETA: 0s - loss: 0.8740 - accuracy: 0.5733\n",
      "Epoch 13: val_accuracy did not improve from 0.69231\n",
      "321/321 [==============================] - 1s 4ms/step - loss: 0.8737 - accuracy: 0.5736 - val_loss: 1.0216 - val_accuracy: 0.6923\n",
      "Epoch 14/100\n",
      "314/321 [============================>.] - ETA: 0s - loss: 0.8689 - accuracy: 0.5693\n",
      "Epoch 14: val_accuracy did not improve from 0.69231\n",
      "321/321 [==============================] - 1s 4ms/step - loss: 0.8703 - accuracy: 0.5702 - val_loss: 0.8788 - val_accuracy: 0.6923\n",
      "Epoch 15/100\n",
      "319/321 [============================>.] - ETA: 0s - loss: 0.8709 - accuracy: 0.5801\n",
      "Epoch 15: val_accuracy did not improve from 0.69231\n",
      "321/321 [==============================] - 1s 4ms/step - loss: 0.8707 - accuracy: 0.5806 - val_loss: 0.9454 - val_accuracy: 0.6923\n",
      "Epoch 16/100\n",
      "313/321 [============================>.] - ETA: 0s - loss: 0.8709 - accuracy: 0.5740\n",
      "Epoch 16: val_accuracy did not improve from 0.69231\n",
      "321/321 [==============================] - 1s 4ms/step - loss: 0.8698 - accuracy: 0.5737 - val_loss: 1.0336 - val_accuracy: 0.6923\n",
      "Epoch 17/100\n",
      "318/321 [============================>.] - ETA: 0s - loss: 0.8752 - accuracy: 0.5745\n",
      "Epoch 17: val_accuracy did not improve from 0.69231\n",
      "321/321 [==============================] - 1s 4ms/step - loss: 0.8742 - accuracy: 0.5750 - val_loss: 0.9149 - val_accuracy: 0.6154\n",
      "Epoch 18/100\n",
      "316/321 [============================>.] - ETA: 0s - loss: 0.8700 - accuracy: 0.5748\n",
      "Epoch 18: val_accuracy did not improve from 0.69231\n",
      "321/321 [==============================] - 1s 4ms/step - loss: 0.8695 - accuracy: 0.5744 - val_loss: 1.0816 - val_accuracy: 0.6154\n",
      "Epoch 19/100\n",
      "320/321 [============================>.] - ETA: 0s - loss: 0.8722 - accuracy: 0.5661\n",
      "Epoch 19: val_accuracy did not improve from 0.69231\n",
      "321/321 [==============================] - 1s 4ms/step - loss: 0.8719 - accuracy: 0.5664 - val_loss: 0.9891 - val_accuracy: 0.6923\n",
      "Epoch 20/100\n",
      "317/321 [============================>.] - ETA: 0s - loss: 0.8669 - accuracy: 0.5767\n",
      "Epoch 20: val_accuracy did not improve from 0.69231\n",
      "321/321 [==============================] - 1s 4ms/step - loss: 0.8663 - accuracy: 0.5767 - val_loss: 0.9826 - val_accuracy: 0.6154\n",
      "Epoch 21/100\n",
      "318/321 [============================>.] - ETA: 0s - loss: 0.8703 - accuracy: 0.5739\n",
      "Epoch 21: val_accuracy did not improve from 0.69231\n",
      "321/321 [==============================] - 1s 4ms/step - loss: 0.8698 - accuracy: 0.5744 - val_loss: 1.1155 - val_accuracy: 0.6154\n",
      "Epoch 22/100\n",
      "319/321 [============================>.] - ETA: 0s - loss: 0.8663 - accuracy: 0.5787\n",
      "Epoch 22: val_accuracy did not improve from 0.69231\n",
      "321/321 [==============================] - 1s 4ms/step - loss: 0.8669 - accuracy: 0.5781 - val_loss: 1.0135 - val_accuracy: 0.6923\n",
      "1/1 [==============================] - 0s 14ms/step - loss: 1.0135 - accuracy: 0.6923\n"
     ]
    }
   ],
   "source": [
    "hist_DNN = model_DNN.fit(X_train, y_train\n",
    "                  , batch_size= BATCH\n",
    "                  , epochs= EPOCH\n",
    "                  , validation_data=(X_test, y_test)\n",
    "                  , callbacks= [checkpoint, early_stopping]\n",
    "                 )\n",
    "\n",
    "history_DNN = model_DNN.evaluate(X_test, y_test)"
   ]
  },
  {
   "cell_type": "code",
   "execution_count": null,
   "metadata": {},
   "outputs": [
    {
     "name": "stdout",
     "output_type": "stream",
     "text": [
      "1/1 [==============================] - 0s 62ms/step\n",
      "[[0.06633105 0.9282692  0.00539981]\n",
      " [0.09543183 0.89857394 0.00599426]\n",
      " [0.14975311 0.83862865 0.01161815]\n",
      " [0.15414308 0.8307317  0.01512529]\n",
      " [0.13498665 0.8502823  0.01473112]\n",
      " [0.0745088  0.91991436 0.00557689]\n",
      " [0.14219637 0.8416254  0.01617823]\n",
      " [0.28729552 0.68032014 0.0323843 ]\n",
      " [0.38180825 0.05552986 0.5626619 ]\n",
      " [0.38489103 0.08288004 0.53222895]\n",
      " [0.4256822  0.18527961 0.38903823]\n",
      " [0.155868   0.01468485 0.82944715]\n",
      " [0.1302383  0.00546889 0.8642928 ]]\n"
     ]
    },
    {
     "data": {
      "text/plain": [
       "((13,), (13, 1))"
      ]
     },
     "execution_count": 51,
     "metadata": {},
     "output_type": "execute_result"
    }
   ],
   "source": [
    "pred_DNN = model_DNN.predict(X_test)\n",
    "print(pred_DNN)\n",
    "pp_DNN = np.argmax(pred_DNN, axis=-1)\n",
    "pp_DNN.shape, y_test.shape"
   ]
  },
  {
   "cell_type": "code",
   "execution_count": null,
   "metadata": {},
   "outputs": [
    {
     "data": {
      "text/plain": [
       "[1.013521432876587, 0.692307710647583]"
      ]
     },
     "execution_count": 52,
     "metadata": {},
     "output_type": "execute_result"
    }
   ],
   "source": [
    "history_DNN"
   ]
  },
  {
   "cell_type": "code",
   "execution_count": null,
   "metadata": {},
   "outputs": [
    {
     "name": "stdout",
     "output_type": "stream",
     "text": [
      "F1 score:0.6222\n"
     ]
    }
   ],
   "source": [
    "f1_DNN = f1_score(y_test, pp_DNN, average='macro')\n",
    "print(f\"F1 score:{f1_DNN:.4f}\")"
   ]
  },
  {
   "cell_type": "code",
   "execution_count": null,
   "metadata": {},
   "outputs": [
    {
     "name": "stdout",
     "output_type": "stream",
     "text": [
      "              precision    recall  f1-score   support\n",
      "\n",
      "     holding       1.00      0.25      0.40         4\n",
      "         buy       0.75      0.86      0.80         7\n",
      "        sell       0.50      1.00      0.67         2\n",
      "\n",
      "    accuracy                           0.69        13\n",
      "   macro avg       0.75      0.70      0.62        13\n",
      "weighted avg       0.79      0.69      0.66        13\n",
      "\n"
     ]
    }
   ],
   "source": [
    "print(classification_report( y_test, pp_DNN, target_names=['holding','buy', 'sell']))"
   ]
  },
  {
   "cell_type": "code",
   "execution_count": null,
   "metadata": {},
   "outputs": [
    {
     "name": "stdout",
     "output_type": "stream",
     "text": [
      "[[1 2 1]\n",
      " [0 6 1]\n",
      " [0 0 2]]\n"
     ]
    }
   ],
   "source": [
    "from sklearn.metrics import confusion_matrix\n",
    "res_DNN = confusion_matrix(y_test, pp_DNN)\n",
    "print(res_DNN)  "
   ]
  },
  {
   "cell_type": "code",
   "execution_count": null,
   "metadata": {
    "colab": {
     "base_uri": "https://localhost:8080/"
    },
    "executionInfo": {
     "elapsed": 19,
     "status": "ok",
     "timestamp": 1668420608891,
     "user": {
      "displayName": "신진명",
      "userId": "13294197785714083129"
     },
     "user_tz": -540
    },
    "id": "YaP9jP1RaDmO",
    "outputId": "d1ee6e87-dd2c-4a17-add3-f7addde496aa"
   },
   "outputs": [
    {
     "data": {
      "text/plain": [
       "13"
      ]
     },
     "execution_count": 56,
     "metadata": {},
     "output_type": "execute_result"
    }
   ],
   "source": [
    "len(pp_DNN)"
   ]
  },
  {
   "cell_type": "code",
   "execution_count": null,
   "metadata": {
    "executionInfo": {
     "elapsed": 17,
     "status": "ok",
     "timestamp": 1668420608891,
     "user": {
      "displayName": "신진명",
      "userId": "13294197785714083129"
     },
     "user_tz": -540
    },
    "id": "e0PP-GzeaDmO"
   },
   "outputs": [],
   "source": [
    "data_DNN = pd.DataFrame({\"actual\":data.iloc[int(len(data) - len(pp_DNN)):][\"position\"], \"position\":pp_DNN})"
   ]
  },
  {
   "cell_type": "code",
   "execution_count": null,
   "metadata": {
    "executionInfo": {
     "elapsed": 11,
     "status": "ok",
     "timestamp": 1668420608892,
     "user": {
      "displayName": "신진명",
      "userId": "13294197785714083129"
     },
     "user_tz": -540
    },
    "id": "i1q7xVR_aDmO"
   },
   "outputs": [],
   "source": [
    "data_DNN[\"Adj Close\"] = data3[\"Adj Close\"][int(len(data)) - len(pp_DNN):]"
   ]
  },
  {
   "cell_type": "code",
   "execution_count": null,
   "metadata": {
    "executionInfo": {
     "elapsed": 10,
     "status": "ok",
     "timestamp": 1668420608892,
     "user": {
      "displayName": "신진명",
      "userId": "13294197785714083129"
     },
     "user_tz": -540
    },
    "id": "D70bUn_7aDmO"
   },
   "outputs": [],
   "source": [
    "data_DNN.reset_index(inplace=True)"
   ]
  },
  {
   "cell_type": "code",
   "execution_count": null,
   "metadata": {
    "colab": {
     "base_uri": "https://localhost:8080/"
    },
    "executionInfo": {
     "elapsed": 10,
     "status": "ok",
     "timestamp": 1668420608892,
     "user": {
      "displayName": "신진명",
      "userId": "13294197785714083129"
     },
     "user_tz": -540
    },
    "id": "-yKaxCcBbNJ-",
    "outputId": "0293d5fa-018e-423c-afb5-86499ec61c7f"
   },
   "outputs": [
    {
     "name": "stdout",
     "output_type": "stream",
     "text": [
      "CAGR:  1.4542\n",
      "Accumulated return: 0.0757\n",
      "Average return:  0.0196\n",
      "Benchmark return : 0.0109\n",
      "Number of trades:  8\n",
      "Number of win: 3\n",
      "Hit ratio: 0.375\n",
      "Investment period: 0.052054794520547946 yrs\n",
      "Sharpe ratio: 12    2.7891\n",
      "Name: acc_rtn, dtype: float64\n",
      "MDD: -3.420000000000001\n",
      "Benchmark MDD: -13.260000000000005\n"
     ]
    }
   ],
   "source": [
    "data_DNN = backtest(data_DNN,'position',True)"
   ]
  },
  {
   "cell_type": "code",
   "execution_count": null,
   "metadata": {},
   "outputs": [
    {
     "name": "stdout",
     "output_type": "stream",
     "text": [
      "DNN:(0.8779996037483215, 0.692307710647583)\n",
      "LSTM:(0.6956453323364258, 0.692307710647583)\n",
      "GRU:(0.720035970211029, 0.692307710647583)\n"
     ]
    }
   ],
   "source": [
    "print(f'DNN:{np.min(hist_DNN.history[\"val_loss\"]), np.max(hist_DNN.history[\"val_accuracy\"])}')\n",
    "print(f'LSTM:{np.min(hist_LSTM.history[\"val_loss\"]), np.max(hist_LSTM.history[\"val_accuracy\"])}')\n",
    "print(f'GRU:{np.min(hist_GRU.history[\"val_loss\"]), np.max(hist_GRU.history[\"val_accuracy\"])}')"
   ]
  },
  {
   "cell_type": "code",
   "execution_count": null,
   "metadata": {},
   "outputs": [
    {
     "name": "stdout",
     "output_type": "stream",
     "text": [
      "0.6538461744785309\n",
      "0.6338461756706237\n",
      "0.6346154063940048\n"
     ]
    }
   ],
   "source": [
    "print(np.mean(hist_DNN.history[\"val_accuracy\"]))\n",
    "print(np.mean(hist_LSTM.history[\"val_accuracy\"]))\n",
    "print(np.mean(hist_GRU.history[\"val_accuracy\"]))"
   ]
  }
 ],
 "metadata": {
  "kernelspec": {
   "display_name": "Python 3.8.8 64-bit",
   "language": "python",
   "name": "python3"
  },
  "language_info": {
   "codemirror_mode": {
    "name": "ipython",
    "version": 3
   },
   "file_extension": ".py",
   "mimetype": "text/x-python",
   "name": "python",
   "nbconvert_exporter": "python",
   "pygments_lexer": "ipython3",
   "version": "3.8.8"
  },
  "orig_nbformat": 4,
  "vscode": {
   "interpreter": {
    "hash": "f544ce1a915a9875fad91c894e2c0bcad4b7a79945aa6027ef3ad27810072aa6"
   }
  }
 },
 "nbformat": 4,
 "nbformat_minor": 2
}
